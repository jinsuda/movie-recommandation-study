{
 "cells": [
  {
   "attachments": {},
   "cell_type": "markdown",
   "id": "4e6b31e4",
   "metadata": {},
   "source": [
    "## 장르 기반 유사도로 추천"
   ]
  },
  {
   "cell_type": "code",
   "execution_count": 1,
   "id": "b789b63c-e174-430d-b55f-3eb7677414ba",
   "metadata": {},
   "outputs": [],
   "source": [
    "import pandas as pd\n",
    "import numpy as np\n"
   ]
  },
  {
   "cell_type": "code",
   "execution_count": 55,
   "id": "29ad2815-f266-4e62-991f-6c9c52b4ea13",
   "metadata": {
    "tags": []
   },
   "outputs": [
    {
     "name": "stdout",
     "output_type": "stream",
     "text": [
      "(9990, 8)\n"
     ]
    },
    {
     "data": {
      "text/html": [
       "<div>\n",
       "<style scoped>\n",
       "    .dataframe tbody tr th:only-of-type {\n",
       "        vertical-align: middle;\n",
       "    }\n",
       "\n",
       "    .dataframe tbody tr th {\n",
       "        vertical-align: top;\n",
       "    }\n",
       "\n",
       "    .dataframe thead th {\n",
       "        text-align: right;\n",
       "    }\n",
       "</style>\n",
       "<table border=\"1\" class=\"dataframe\">\n",
       "  <thead>\n",
       "    <tr style=\"text-align: right;\">\n",
       "      <th></th>\n",
       "      <th>title</th>\n",
       "      <th>genres</th>\n",
       "      <th>id</th>\n",
       "      <th>overview</th>\n",
       "      <th>popularity</th>\n",
       "      <th>original_title</th>\n",
       "      <th>vote_average</th>\n",
       "      <th>vote_count</th>\n",
       "    </tr>\n",
       "  </thead>\n",
       "  <tbody>\n",
       "    <tr>\n",
       "      <th>0</th>\n",
       "      <td>앤트맨과 와스프: 퀀텀매니아</td>\n",
       "      <td>['액션', '모험', 'SF']</td>\n",
       "      <td>640146</td>\n",
       "      <td>슈퍼히어로 파트너인 스캇 랭과 호프 반 다인, 호프의 부모 재닛 반 다인과 행크 핌...</td>\n",
       "      <td>10773.574</td>\n",
       "      <td>Ant-Man and the Wasp: Quantumania</td>\n",
       "      <td>6.5</td>\n",
       "      <td>1999</td>\n",
       "    </tr>\n",
       "    <tr>\n",
       "      <th>1</th>\n",
       "      <td>슈퍼 마리오 브라더스</td>\n",
       "      <td>['애니메이션', '모험', '가족', '판타지', '코미디']</td>\n",
       "      <td>502356</td>\n",
       "      <td>따단-딴-따단-딴 ♫ 전 세계를 열광시킬 올 타임 슈퍼 어드벤처의 등장! 뉴욕의 평...</td>\n",
       "      <td>8786.695</td>\n",
       "      <td>The Super Mario Bros. Movie</td>\n",
       "      <td>7.5</td>\n",
       "      <td>1580</td>\n",
       "    </tr>\n",
       "  </tbody>\n",
       "</table>\n",
       "</div>"
      ],
      "text/plain": [
       "             title                               genres      id   \n",
       "0  앤트맨과 와스프: 퀀텀매니아                   ['액션', '모험', 'SF']  640146  \\\n",
       "1      슈퍼 마리오 브라더스  ['애니메이션', '모험', '가족', '판타지', '코미디']  502356   \n",
       "\n",
       "                                            overview  popularity   \n",
       "0  슈퍼히어로 파트너인 스캇 랭과 호프 반 다인, 호프의 부모 재닛 반 다인과 행크 핌...   10773.574  \\\n",
       "1  따단-딴-따단-딴 ♫ 전 세계를 열광시킬 올 타임 슈퍼 어드벤처의 등장! 뉴욕의 평...    8786.695   \n",
       "\n",
       "                      original_title  vote_average  vote_count  \n",
       "0  Ant-Man and the Wasp: Quantumania           6.5        1999  \n",
       "1        The Super Mario Bros. Movie           7.5        1580  "
      ]
     },
     "execution_count": 55,
     "metadata": {},
     "output_type": "execute_result"
    }
   ],
   "source": [
    "movies = pd.read_csv('./tmdbData.csv')\n",
    "print(movies.shape)\n",
    "movies.head(2)"
   ]
  },
  {
   "cell_type": "code",
   "execution_count": 56,
   "id": "2df5df20-1e85-4022-b831-ad2f5277cccf",
   "metadata": {},
   "outputs": [],
   "source": [
    "movies_df = movies[['id','title','genres','vote_average','vote_count','popularity','overview','original_title']]"
   ]
  },
  {
   "cell_type": "code",
   "execution_count": 57,
   "id": "b15d6c05-58a9-4494-9a40-6e61d5593967",
   "metadata": {},
   "outputs": [],
   "source": [
    "# 장르값이 여러개가 들어있어서 literal_eval로 tuple로 변환\n",
    "from ast import literal_eval\n",
    "movies_df['genres'] = movies_df['genres'].apply(literal_eval)\n"
   ]
  },
  {
   "cell_type": "code",
   "execution_count": null,
   "id": "7cd3d0d3-564b-46c2-afd1-81352ea3256c",
   "metadata": {
    "tags": []
   },
   "outputs": [],
   "source": [
    "# genres컬럼에서 장르명만, keywords컬럼에서 키워드만 리스트로 넣기\n",
    "# 리스트 내 여러개의 딕셔너리의 'name'키에 해당하는 값을 찾아서 리스트 형태로 변환\n",
    "# movies_df['genres'] = movies_df['genres'].apply(lambda x : [ y['name'] for y in x])\n",
    "#movies_df['keywords'] = movies_df['keywords'].apply(lambda x : [ y['name'] for y in x])\n",
    "# movies_df.head(2)"
   ]
  },
  {
   "cell_type": "code",
   "execution_count": 59,
   "id": "61cb2387-ce44-46a9-a9f3-dd37902737e2",
   "metadata": {},
   "outputs": [
    {
     "data": {
      "text/html": [
       "<div>\n",
       "<style scoped>\n",
       "    .dataframe tbody tr th:only-of-type {\n",
       "        vertical-align: middle;\n",
       "    }\n",
       "\n",
       "    .dataframe tbody tr th {\n",
       "        vertical-align: top;\n",
       "    }\n",
       "\n",
       "    .dataframe thead th {\n",
       "        text-align: right;\n",
       "    }\n",
       "</style>\n",
       "<table border=\"1\" class=\"dataframe\">\n",
       "  <thead>\n",
       "    <tr style=\"text-align: right;\">\n",
       "      <th></th>\n",
       "      <th>id</th>\n",
       "      <th>title</th>\n",
       "      <th>genres</th>\n",
       "      <th>vote_average</th>\n",
       "      <th>vote_count</th>\n",
       "      <th>popularity</th>\n",
       "      <th>overview</th>\n",
       "      <th>original_title</th>\n",
       "      <th>genres_literal</th>\n",
       "    </tr>\n",
       "  </thead>\n",
       "  <tbody>\n",
       "    <tr>\n",
       "      <th>0</th>\n",
       "      <td>640146</td>\n",
       "      <td>앤트맨과 와스프: 퀀텀매니아</td>\n",
       "      <td>[액션, 모험, SF]</td>\n",
       "      <td>6.5</td>\n",
       "      <td>1999</td>\n",
       "      <td>10773.574</td>\n",
       "      <td>슈퍼히어로 파트너인 스캇 랭과 호프 반 다인, 호프의 부모 재닛 반 다인과 행크 핌...</td>\n",
       "      <td>Ant-Man and the Wasp: Quantumania</td>\n",
       "      <td>액션 모험 SF</td>\n",
       "    </tr>\n",
       "    <tr>\n",
       "      <th>1</th>\n",
       "      <td>502356</td>\n",
       "      <td>슈퍼 마리오 브라더스</td>\n",
       "      <td>[애니메이션, 모험, 가족, 판타지, 코미디]</td>\n",
       "      <td>7.5</td>\n",
       "      <td>1580</td>\n",
       "      <td>8786.695</td>\n",
       "      <td>따단-딴-따단-딴 ♫ 전 세계를 열광시킬 올 타임 슈퍼 어드벤처의 등장! 뉴욕의 평...</td>\n",
       "      <td>The Super Mario Bros. Movie</td>\n",
       "      <td>애니메이션 모험 가족 판타지 코미디</td>\n",
       "    </tr>\n",
       "  </tbody>\n",
       "</table>\n",
       "</div>"
      ],
      "text/plain": [
       "       id            title                     genres  vote_average   \n",
       "0  640146  앤트맨과 와스프: 퀀텀매니아               [액션, 모험, SF]           6.5  \\\n",
       "1  502356      슈퍼 마리오 브라더스  [애니메이션, 모험, 가족, 판타지, 코미디]           7.5   \n",
       "\n",
       "   vote_count  popularity                                           overview   \n",
       "0        1999   10773.574  슈퍼히어로 파트너인 스캇 랭과 호프 반 다인, 호프의 부모 재닛 반 다인과 행크 핌...  \\\n",
       "1        1580    8786.695  따단-딴-따단-딴 ♫ 전 세계를 열광시킬 올 타임 슈퍼 어드벤처의 등장! 뉴욕의 평...   \n",
       "\n",
       "                      original_title       genres_literal  \n",
       "0  Ant-Man and the Wasp: Quantumania             액션 모험 SF  \n",
       "1        The Super Mario Bros. Movie  애니메이션 모험 가족 판타지 코미디  "
      ]
     },
     "execution_count": 59,
     "metadata": {},
     "output_type": "execute_result"
    }
   ],
   "source": [
    "from sklearn.feature_extraction.text import CountVectorizer\n",
    "\n",
    "# 장르값들을 벡터화 하기위해 띄어쓰기로 구분되는 문장으로 변환.\n",
    "movies_df['genres_literal'] = movies_df['genres'].apply(lambda x : (' ').join(x))\n",
    "movies_df.head(2)"
   ]
  },
  {
   "cell_type": "code",
   "execution_count": 60,
   "id": "4a6bf583-07a8-4122-b111-d27066b1272c",
   "metadata": {},
   "outputs": [
    {
     "data": {
      "text/plain": [
       "(9990, 320)"
      ]
     },
     "execution_count": 60,
     "metadata": {},
     "output_type": "execute_result"
    }
   ],
   "source": [
    "# min_df로 지정한 값보다 작은 경우에는 무시 \n",
    "count_vect = CountVectorizer(min_df=0, ngram_range=(1,2)) # ngram 단어의 묶음을 1개부터 2개까지 설정(science Fiction같은 2개 묶음)\n",
    "genre_mat = count_vect.fit_transform(movies_df['genres_literal'])\n",
    "genre_mat.shape\n",
    "#4803,276 피처벡터행렬"
   ]
  },
  {
   "cell_type": "code",
   "execution_count": 61,
   "id": "cc054021-e017-41f0-9554-b94abc1de0fb",
   "metadata": {},
   "outputs": [
    {
     "name": "stdout",
     "output_type": "stream",
     "text": [
      "(9990, 9990)\n",
      "[[1.         0.1490712  0.2        ... 0.         0.16903085 0.        ]\n",
      " [0.1490712  1.         0.2981424  ... 0.         0.12598816 0.        ]\n",
      " [0.2        0.2981424  1.         ... 0.         0.50709255 0.        ]\n",
      " [0.6        0.1490712  0.2        ... 0.         0.16903085 0.        ]\n",
      " [0.4472136  0.11111111 0.1490712  ... 0.         0.12598816 0.33333333]]\n"
     ]
    }
   ],
   "source": [
    "# 생성한 행렬에 코사인 유사도 계산\n",
    "from sklearn.metrics.pairwise import cosine_similarity\n",
    "\n",
    "genre_sim = cosine_similarity(genre_mat, genre_mat)\n",
    "print(genre_sim.shape)\n",
    "print(genre_sim[:5])"
   ]
  },
  {
   "cell_type": "code",
   "execution_count": 62,
   "id": "36e3ae34-0e40-4d76-aee7-f04904e3f5b4",
   "metadata": {},
   "outputs": [],
   "source": [
    "# 유사도가 가장 높은 순으로 정렬\n",
    "genre_sim_sorted = genre_sim.argsort()[:,::-1]\n",
    "# print(genre_sim_sorted[:1])\n",
    "# 0번 레코드는 3494번 레코드가 유사도 가장 높고, 가장 낮은 레코드는 2401번이다."
   ]
  },
  {
   "cell_type": "code",
   "execution_count": 10,
   "id": "eacfb74d-4fff-491f-86f6-b9a9d35c6eec",
   "metadata": {},
   "outputs": [],
   "source": [
    "def find_movie(df, sorted_index, title_name, top_list=10): # top_list : 상위 10개만 추천\n",
    "\n",
    "    title_movie = df[df['title'] == title_name]\n",
    "    title_index = title_movie.index.values\n",
    "    # genre_sim_sorted에서 유사도 순으로 top_list개 index추출\n",
    "    similar_index = sorted_index[title_index, :(top_list)]\n",
    "    \n",
    "    # top_list index출력. (2차원->1차원으로)\n",
    "    print(similar_index)\n",
    "    similar_index = similar_index.reshape(-1)\n",
    "    \n",
    "    return df.iloc[similar_index]"
   ]
  },
  {
   "cell_type": "code",
   "execution_count": 68,
   "id": "3d8af10d-2857-446e-8d24-1d0a6658462d",
   "metadata": {},
   "outputs": [
    {
     "data": {
      "text/html": [
       "<div>\n",
       "<style scoped>\n",
       "    .dataframe tbody tr th:only-of-type {\n",
       "        vertical-align: middle;\n",
       "    }\n",
       "\n",
       "    .dataframe tbody tr th {\n",
       "        vertical-align: top;\n",
       "    }\n",
       "\n",
       "    .dataframe thead th {\n",
       "        text-align: right;\n",
       "    }\n",
       "</style>\n",
       "<table border=\"1\" class=\"dataframe\">\n",
       "  <thead>\n",
       "    <tr style=\"text-align: right;\">\n",
       "      <th></th>\n",
       "      <th>id</th>\n",
       "      <th>title</th>\n",
       "      <th>genres</th>\n",
       "      <th>vote_average</th>\n",
       "      <th>vote_count</th>\n",
       "      <th>popularity</th>\n",
       "      <th>overview</th>\n",
       "      <th>original_title</th>\n",
       "      <th>genres_literal</th>\n",
       "      <th>weighted_vote</th>\n",
       "    </tr>\n",
       "  </thead>\n",
       "  <tbody>\n",
       "    <tr>\n",
       "      <th>458</th>\n",
       "      <td>238</td>\n",
       "      <td>대부</td>\n",
       "      <td>[드라마, 범죄]</td>\n",
       "      <td>8.7</td>\n",
       "      <td>17826</td>\n",
       "      <td>113.417</td>\n",
       "      <td>시실리에서 이민온 뒤, 정치권까지 영향력을 미치는 거물로 자리잡은 돈 꼴레오네는 갖...</td>\n",
       "      <td>The Godfather</td>\n",
       "      <td>드라마 범죄</td>\n",
       "      <td>8.59896</td>\n",
       "    </tr>\n",
       "  </tbody>\n",
       "</table>\n",
       "</div>"
      ],
      "text/plain": [
       "      id title     genres  vote_average  vote_count  popularity   \n",
       "458  238    대부  [드라마, 범죄]           8.7       17826     113.417  \\\n",
       "\n",
       "                                              overview original_title   \n",
       "458  시실리에서 이민온 뒤, 정치권까지 영향력을 미치는 거물로 자리잡은 돈 꼴레오네는 갖...  The Godfather  \\\n",
       "\n",
       "    genres_literal  weighted_vote  \n",
       "458         드라마 범죄        8.59896  "
      ]
     },
     "execution_count": 68,
     "metadata": {},
     "output_type": "execute_result"
    }
   ],
   "source": [
    "movies_df[movies_df['title'] == '대부']"
   ]
  },
  {
   "cell_type": "code",
   "execution_count": 69,
   "id": "aa775500-ebc7-43a4-a729-ae95dc040af2",
   "metadata": {},
   "outputs": [
    {
     "data": {
      "text/html": [
       "<div>\n",
       "<style scoped>\n",
       "    .dataframe tbody tr th:only-of-type {\n",
       "        vertical-align: middle;\n",
       "    }\n",
       "\n",
       "    .dataframe tbody tr th {\n",
       "        vertical-align: top;\n",
       "    }\n",
       "\n",
       "    .dataframe thead th {\n",
       "        text-align: right;\n",
       "    }\n",
       "</style>\n",
       "<table border=\"1\" class=\"dataframe\">\n",
       "  <thead>\n",
       "    <tr style=\"text-align: right;\">\n",
       "      <th></th>\n",
       "      <th>title</th>\n",
       "      <th>vote_average</th>\n",
       "      <th>vote_count</th>\n",
       "    </tr>\n",
       "  </thead>\n",
       "  <tbody>\n",
       "    <tr>\n",
       "      <th>1694</th>\n",
       "      <td>여사장 후리꾼</td>\n",
       "      <td>10.0</td>\n",
       "      <td>1</td>\n",
       "    </tr>\n",
       "    <tr>\n",
       "      <th>8313</th>\n",
       "      <td>不倫、変態、悶々弔問</td>\n",
       "      <td>10.0</td>\n",
       "      <td>1</td>\n",
       "    </tr>\n",
       "    <tr>\n",
       "      <th>7925</th>\n",
       "      <td>여자 하숙집 3</td>\n",
       "      <td>10.0</td>\n",
       "      <td>1</td>\n",
       "    </tr>\n",
       "    <tr>\n",
       "      <th>2889</th>\n",
       "      <td>Spring Breakthrough</td>\n",
       "      <td>10.0</td>\n",
       "      <td>1</td>\n",
       "    </tr>\n",
       "    <tr>\n",
       "      <th>5583</th>\n",
       "      <td>Death By Desire</td>\n",
       "      <td>10.0</td>\n",
       "      <td>1</td>\n",
       "    </tr>\n",
       "    <tr>\n",
       "      <th>1591</th>\n",
       "      <td>장모학개론</td>\n",
       "      <td>10.0</td>\n",
       "      <td>1</td>\n",
       "    </tr>\n",
       "    <tr>\n",
       "      <th>3368</th>\n",
       "      <td>예쁜 여동생 4</td>\n",
       "      <td>10.0</td>\n",
       "      <td>1</td>\n",
       "    </tr>\n",
       "    <tr>\n",
       "      <th>8485</th>\n",
       "      <td>Falling for a Killer</td>\n",
       "      <td>10.0</td>\n",
       "      <td>1</td>\n",
       "    </tr>\n",
       "    <tr>\n",
       "      <th>452</th>\n",
       "      <td>오르가즘 특강 2</td>\n",
       "      <td>10.0</td>\n",
       "      <td>1</td>\n",
       "    </tr>\n",
       "    <tr>\n",
       "      <th>6769</th>\n",
       "      <td>Directing Annabelle: Creation</td>\n",
       "      <td>9.3</td>\n",
       "      <td>4</td>\n",
       "    </tr>\n",
       "  </tbody>\n",
       "</table>\n",
       "</div>"
      ],
      "text/plain": [
       "                              title  vote_average  vote_count\n",
       "1694                        여사장 후리꾼          10.0           1\n",
       "8313                     不倫、変態、悶々弔問          10.0           1\n",
       "7925                       여자 하숙집 3          10.0           1\n",
       "2889            Spring Breakthrough          10.0           1\n",
       "5583                Death By Desire          10.0           1\n",
       "1591                          장모학개론          10.0           1\n",
       "3368                       예쁜 여동생 4          10.0           1\n",
       "8485           Falling for a Killer          10.0           1\n",
       "452                       오르가즘 특강 2          10.0           1\n",
       "6769  Directing Annabelle: Creation           9.3           4"
      ]
     },
     "execution_count": 69,
     "metadata": {},
     "output_type": "execute_result"
    }
   ],
   "source": [
    "movies_df[['title', 'vote_average', 'vote_count']].sort_values('vote_average', ascending=False)[:10]\n",
    "# 평균평점순으로 정렬했더니 투표수를 보니 평가횟수가 1회"
   ]
  },
  {
   "cell_type": "code",
   "execution_count": 70,
   "id": "8214347f-2529-4245-b2a6-3e5286f500a3",
   "metadata": {},
   "outputs": [
    {
     "name": "stdout",
     "output_type": "stream",
     "text": [
      "[[4432  125  203 2406  514 5641 3043 1296  524  896]]\n"
     ]
    },
    {
     "data": {
      "text/html": [
       "<div>\n",
       "<style scoped>\n",
       "    .dataframe tbody tr th:only-of-type {\n",
       "        vertical-align: middle;\n",
       "    }\n",
       "\n",
       "    .dataframe tbody tr th {\n",
       "        vertical-align: top;\n",
       "    }\n",
       "\n",
       "    .dataframe thead th {\n",
       "        text-align: right;\n",
       "    }\n",
       "</style>\n",
       "<table border=\"1\" class=\"dataframe\">\n",
       "  <thead>\n",
       "    <tr style=\"text-align: right;\">\n",
       "      <th></th>\n",
       "      <th>title</th>\n",
       "      <th>vote_average</th>\n",
       "    </tr>\n",
       "  </thead>\n",
       "  <tbody>\n",
       "    <tr>\n",
       "      <th>4432</th>\n",
       "      <td>스콜피온 킹 2: 전사의 부활</td>\n",
       "      <td>4.6</td>\n",
       "    </tr>\n",
       "    <tr>\n",
       "      <th>125</th>\n",
       "      <td>아바타</td>\n",
       "      <td>7.6</td>\n",
       "    </tr>\n",
       "    <tr>\n",
       "      <th>203</th>\n",
       "      <td>잭 스나이더의 저스티스 리그</td>\n",
       "      <td>8.2</td>\n",
       "    </tr>\n",
       "    <tr>\n",
       "      <th>2406</th>\n",
       "      <td>판타스틱 4</td>\n",
       "      <td>5.8</td>\n",
       "    </tr>\n",
       "    <tr>\n",
       "      <th>514</th>\n",
       "      <td>토르: 라그나로크</td>\n",
       "      <td>7.6</td>\n",
       "    </tr>\n",
       "    <tr>\n",
       "      <th>5641</th>\n",
       "      <td>파이널 판타지 VII: 어드벤트 칠드런</td>\n",
       "      <td>7.1</td>\n",
       "    </tr>\n",
       "    <tr>\n",
       "      <th>3043</th>\n",
       "      <td>드래곤볼 에볼루션</td>\n",
       "      <td>2.9</td>\n",
       "    </tr>\n",
       "    <tr>\n",
       "      <th>1296</th>\n",
       "      <td>엑스맨: 다크 피닉스</td>\n",
       "      <td>6.0</td>\n",
       "    </tr>\n",
       "    <tr>\n",
       "      <th>524</th>\n",
       "      <td>정글 크루즈</td>\n",
       "      <td>7.4</td>\n",
       "    </tr>\n",
       "    <tr>\n",
       "      <th>896</th>\n",
       "      <td>라스트 에어벤더</td>\n",
       "      <td>4.7</td>\n",
       "    </tr>\n",
       "  </tbody>\n",
       "</table>\n",
       "</div>"
      ],
      "text/plain": [
       "                      title  vote_average\n",
       "4432       스콜피온 킹 2: 전사의 부활           4.6\n",
       "125                     아바타           7.6\n",
       "203         잭 스나이더의 저스티스 리그           8.2\n",
       "2406                 판타스틱 4           5.8\n",
       "514               토르: 라그나로크           7.6\n",
       "5641  파이널 판타지 VII: 어드벤트 칠드런           7.1\n",
       "3043              드래곤볼 에볼루션           2.9\n",
       "1296            엑스맨: 다크 피닉스           6.0\n",
       "524                  정글 크루즈           7.4\n",
       "896                라스트 에어벤더           4.7"
      ]
     },
     "execution_count": 70,
     "metadata": {},
     "output_type": "execute_result"
    }
   ],
   "source": [
    "similar_movies = find_movie(movies_df, genre_sim_sorted, '아바타', 10)\n",
    "similar_movies[['title', 'vote_average']]\n",
    "# kids는 장르가 아예 다름, 평점이 0인 영화도 있음"
   ]
  },
  {
   "cell_type": "code",
   "execution_count": 63,
   "id": "90b5cca3-71b4-416d-b0d7-181adb329a97",
   "metadata": {},
   "outputs": [
    {
     "name": "stdout",
     "output_type": "stream",
     "text": [
      "C: 6.278 m: 776.0\n"
     ]
    }
   ],
   "source": [
    "# 가중평점(Weighted Rating) = (v/(v+m)) * R + (m/(v+m)) * C\n",
    "# v: 개별 영화에 평점을 투효한 횟수\n",
    "# m: 평점을 부여하기 위한 최소 투표 횟수\n",
    "# R: 개별 영화에 대한 평균 평점\n",
    "# C: 전체 영화에 대한 평균 평점\n",
    "\n",
    "# v = 'vote_count'\n",
    "# R = 'vote_average'\n",
    "# C = movies_df['vote_average'].mean()\n",
    "\n",
    "# m = 값이 높으면 평점 투표 횟수가 많은 영화에 높은 가중평점을 부여. \n",
    "# 상위 60%에 해당하는 횟수를 기준\n",
    "\n",
    "C = movies_df['vote_average'].mean()\n",
    "m = movies_df['vote_count'].quantile(0.6)\n",
    "print('C:', round(C,3), 'm:', round(m,3))"
   ]
  },
  {
   "cell_type": "code",
   "execution_count": 64,
   "id": "da261808-492d-4242-905c-cc305a83d7d5",
   "metadata": {},
   "outputs": [],
   "source": [
    "def weighted_vote_average(record):\n",
    "    v = record['vote_count']\n",
    "    R = record['vote_average']\n",
    "    \n",
    "    return ((v/(v+m)) * R) + ((m/(v+m)) * C)\n",
    "\n",
    "movies_df['weighted_vote'] = movies.apply(weighted_vote_average, axis=1)"
   ]
  },
  {
   "cell_type": "code",
   "execution_count": 65,
   "id": "a4e8284a-a29c-4edd-b960-150d2910635c",
   "metadata": {},
   "outputs": [
    {
     "data": {
      "text/html": [
       "<div>\n",
       "<style scoped>\n",
       "    .dataframe tbody tr th:only-of-type {\n",
       "        vertical-align: middle;\n",
       "    }\n",
       "\n",
       "    .dataframe tbody tr th {\n",
       "        vertical-align: top;\n",
       "    }\n",
       "\n",
       "    .dataframe thead th {\n",
       "        text-align: right;\n",
       "    }\n",
       "</style>\n",
       "<table border=\"1\" class=\"dataframe\">\n",
       "  <thead>\n",
       "    <tr style=\"text-align: right;\">\n",
       "      <th></th>\n",
       "      <th>title</th>\n",
       "      <th>vote_average</th>\n",
       "      <th>weighted_vote</th>\n",
       "      <th>vote_count</th>\n",
       "    </tr>\n",
       "  </thead>\n",
       "  <tbody>\n",
       "    <tr>\n",
       "      <th>462</th>\n",
       "      <td>쇼생크 탈출</td>\n",
       "      <td>8.7</td>\n",
       "      <td>8.623152</td>\n",
       "      <td>23682</td>\n",
       "    </tr>\n",
       "    <tr>\n",
       "      <th>458</th>\n",
       "      <td>대부</td>\n",
       "      <td>8.7</td>\n",
       "      <td>8.598960</td>\n",
       "      <td>17826</td>\n",
       "    </tr>\n",
       "    <tr>\n",
       "      <th>1069</th>\n",
       "      <td>쉰들러 리스트</td>\n",
       "      <td>8.6</td>\n",
       "      <td>8.478074</td>\n",
       "      <td>14003</td>\n",
       "    </tr>\n",
       "    <tr>\n",
       "      <th>758</th>\n",
       "      <td>대부 2</td>\n",
       "      <td>8.6</td>\n",
       "      <td>8.444162</td>\n",
       "      <td>10787</td>\n",
       "    </tr>\n",
       "    <tr>\n",
       "      <th>633</th>\n",
       "      <td>다크 나이트</td>\n",
       "      <td>8.5</td>\n",
       "      <td>8.443222</td>\n",
       "      <td>29594</td>\n",
       "    </tr>\n",
       "    <tr>\n",
       "      <th>...</th>\n",
       "      <td>...</td>\n",
       "      <td>...</td>\n",
       "      <td>...</td>\n",
       "      <td>...</td>\n",
       "    </tr>\n",
       "    <tr>\n",
       "      <th>6758</th>\n",
       "      <td>재난 영화</td>\n",
       "      <td>3.3</td>\n",
       "      <td>4.660924</td>\n",
       "      <td>922</td>\n",
       "    </tr>\n",
       "    <tr>\n",
       "      <th>1570</th>\n",
       "      <td>판타스틱 4</td>\n",
       "      <td>4.4</td>\n",
       "      <td>4.631567</td>\n",
       "      <td>5517</td>\n",
       "    </tr>\n",
       "    <tr>\n",
       "      <th>3280</th>\n",
       "      <td>배트맨 앤 로빈</td>\n",
       "      <td>4.3</td>\n",
       "      <td>4.592352</td>\n",
       "      <td>4474</td>\n",
       "    </tr>\n",
       "    <tr>\n",
       "      <th>5134</th>\n",
       "      <td>데스노트</td>\n",
       "      <td>4.2</td>\n",
       "      <td>4.563656</td>\n",
       "      <td>3658</td>\n",
       "    </tr>\n",
       "    <tr>\n",
       "      <th>3043</th>\n",
       "      <td>드래곤볼 에볼루션</td>\n",
       "      <td>2.9</td>\n",
       "      <td>3.899713</td>\n",
       "      <td>1846</td>\n",
       "    </tr>\n",
       "  </tbody>\n",
       "</table>\n",
       "<p>9990 rows × 4 columns</p>\n",
       "</div>"
      ],
      "text/plain": [
       "          title  vote_average  weighted_vote  vote_count\n",
       "462      쇼생크 탈출           8.7       8.623152       23682\n",
       "458          대부           8.7       8.598960       17826\n",
       "1069    쉰들러 리스트           8.6       8.478074       14003\n",
       "758        대부 2           8.6       8.444162       10787\n",
       "633      다크 나이트           8.5       8.443222       29594\n",
       "...         ...           ...            ...         ...\n",
       "6758      재난 영화           3.3       4.660924         922\n",
       "1570     판타스틱 4           4.4       4.631567        5517\n",
       "3280   배트맨 앤 로빈           4.3       4.592352        4474\n",
       "5134       데스노트           4.2       4.563656        3658\n",
       "3043  드래곤볼 에볼루션           2.9       3.899713        1846\n",
       "\n",
       "[9990 rows x 4 columns]"
      ]
     },
     "execution_count": 65,
     "metadata": {},
     "output_type": "execute_result"
    }
   ],
   "source": [
    "movies_df[['title', 'vote_average', 'weighted_vote', 'vote_count']].sort_values('weighted_vote',ascending=False)"
   ]
  },
  {
   "cell_type": "code",
   "execution_count": 66,
   "id": "91dbbfd9-9c9e-4439-ba60-cfc94760176f",
   "metadata": {},
   "outputs": [],
   "source": [
    "def find_sim_movie(df, sorted_idx, title_name, top_list=10):\n",
    "    title_movie = df[df['title'] == title_name]\n",
    "    title_index = title_movie.index.values\n",
    "    #print(title_movie)\n",
    "    # 장르 유사성이 높은 영화 top_list의 2배수만큼 후보선정\n",
    "    similar_index = sorted_idx[title_index, :(top_list*2)]\n",
    "    similar_index = similar_index.reshape(-1)\n",
    "    \n",
    "    similar_index = similar_index[similar_index != title_index] # 기존 영화 인덱스 제외\n",
    "    \n",
    "    return df.iloc[similar_index].sort_values('weighted_vote', ascending=False)[:top_list]\n",
    "\n"
   ]
  },
  {
   "cell_type": "code",
   "execution_count": 67,
   "id": "43c1e29a",
   "metadata": {},
   "outputs": [
    {
     "data": {
      "text/html": [
       "<div>\n",
       "<style scoped>\n",
       "    .dataframe tbody tr th:only-of-type {\n",
       "        vertical-align: middle;\n",
       "    }\n",
       "\n",
       "    .dataframe tbody tr th {\n",
       "        vertical-align: top;\n",
       "    }\n",
       "\n",
       "    .dataframe thead th {\n",
       "        text-align: right;\n",
       "    }\n",
       "</style>\n",
       "<table border=\"1\" class=\"dataframe\">\n",
       "  <thead>\n",
       "    <tr style=\"text-align: right;\">\n",
       "      <th></th>\n",
       "      <th>title</th>\n",
       "      <th>vote_average</th>\n",
       "      <th>weighted_vote</th>\n",
       "    </tr>\n",
       "  </thead>\n",
       "  <tbody>\n",
       "    <tr>\n",
       "      <th>203</th>\n",
       "      <td>잭 스나이더의 저스티스 리그</td>\n",
       "      <td>8.2</td>\n",
       "      <td>8.044159</td>\n",
       "    </tr>\n",
       "    <tr>\n",
       "      <th>514</th>\n",
       "      <td>토르: 라그나로크</td>\n",
       "      <td>7.6</td>\n",
       "      <td>7.548163</td>\n",
       "    </tr>\n",
       "    <tr>\n",
       "      <th>524</th>\n",
       "      <td>정글 크루즈</td>\n",
       "      <td>7.4</td>\n",
       "      <td>7.247957</td>\n",
       "    </tr>\n",
       "    <tr>\n",
       "      <th>5802</th>\n",
       "      <td>윌로우</td>\n",
       "      <td>7.0</td>\n",
       "      <td>6.771379</td>\n",
       "    </tr>\n",
       "    <tr>\n",
       "      <th>5641</th>\n",
       "      <td>파이널 판타지 VII: 어드벤트 칠드런</td>\n",
       "      <td>7.1</td>\n",
       "      <td>6.737939</td>\n",
       "    </tr>\n",
       "    <tr>\n",
       "      <th>834</th>\n",
       "      <td>토르: 다크 월드</td>\n",
       "      <td>6.5</td>\n",
       "      <td>6.489695</td>\n",
       "    </tr>\n",
       "    <tr>\n",
       "      <th>501</th>\n",
       "      <td>어메이징 스파이더맨 2</td>\n",
       "      <td>6.5</td>\n",
       "      <td>6.486435</td>\n",
       "    </tr>\n",
       "    <tr>\n",
       "      <th>2071</th>\n",
       "      <td>워크래프트: 전쟁의 서막</td>\n",
       "      <td>6.4</td>\n",
       "      <td>6.386355</td>\n",
       "    </tr>\n",
       "    <tr>\n",
       "      <th>173</th>\n",
       "      <td>강철의 연금술사 완결편: 최후의 연성</td>\n",
       "      <td>6.3</td>\n",
       "      <td>6.281458</td>\n",
       "    </tr>\n",
       "    <tr>\n",
       "      <th>512</th>\n",
       "      <td>아쿠아맨과 로스트 킹덤</td>\n",
       "      <td>0.0</td>\n",
       "      <td>6.277898</td>\n",
       "    </tr>\n",
       "  </tbody>\n",
       "</table>\n",
       "</div>"
      ],
      "text/plain": [
       "                      title  vote_average  weighted_vote\n",
       "203         잭 스나이더의 저스티스 리그           8.2       8.044159\n",
       "514               토르: 라그나로크           7.6       7.548163\n",
       "524                  정글 크루즈           7.4       7.247957\n",
       "5802                    윌로우           7.0       6.771379\n",
       "5641  파이널 판타지 VII: 어드벤트 칠드런           7.1       6.737939\n",
       "834               토르: 다크 월드           6.5       6.489695\n",
       "501            어메이징 스파이더맨 2           6.5       6.486435\n",
       "2071          워크래프트: 전쟁의 서막           6.4       6.386355\n",
       "173    강철의 연금술사 완결편: 최후의 연성           6.3       6.281458\n",
       "512            아쿠아맨과 로스트 킹덤           0.0       6.277898"
      ]
     },
     "execution_count": 67,
     "metadata": {},
     "output_type": "execute_result"
    }
   ],
   "source": [
    "similar_movie = find_sim_movie(movies_df,genre_sim_sorted,'아바타',10)\n",
    "similar_movie[['title','vote_average','weighted_vote']]"
   ]
  },
  {
   "attachments": {},
   "cell_type": "markdown",
   "id": "6a67e51b-f42e-4162-857c-d41e64c044da",
   "metadata": {
    "jp-MarkdownHeadingCollapsed": true,
    "tags": []
   },
   "source": [
    "## Surprise (협업 시스템기반)\n",
    "### 유저가 평점주고 안주고 분류"
   ]
  },
  {
   "attachments": {},
   "cell_type": "markdown",
   "id": "63481ebb-8351-444f-b55e-f93464f9b8f0",
   "metadata": {},
   "source": [
    "- Surprise 는 사용자 아이디, 아이템 아이디, 평점 데이터가 로우 레벨로 된 데이터 세트만 적용할 수 있다. \n",
    "- 그래서 데이터의 첫번째 컬럼을 사용자 아이디, 두번째 컬럼을 아이템 아이디, 세번째 컬럼을 평점으로 가정해 데이터를 로딩하고 네번째 컬럼부터는 로딩을 수행하지 않는다. \n",
    "    - 예로, user_id, item_id, rating, time_stamp 필드로 구분된 데이터라면 앞 3개 필드만 로딩하고 이후 time_stamp 필드는 로딩에서 제외\n",
    "    - 따라서 반드시 데이터 세트의 컬럼 순서가 사용자 아이디, 아이템 아이디, 평점 순으로 돼 있어야 한다."
   ]
  },
  {
   "attachments": {},
   "cell_type": "markdown",
   "id": "497f89f5-8135-42d9-b108-75ebb71bdf82",
   "metadata": {},
   "source": [
    "https://big-dream-world.tistory.com/70?category=470634"
   ]
  },
  {
   "attachments": {},
   "cell_type": "markdown",
   "id": "51e8a370-a581-497c-a81f-ae546a658309",
   "metadata": {
    "tags": []
   },
   "source": [
    "### 1. Surprise를 이용한 추천 시스템 구축"
   ]
  },
  {
   "attachments": {},
   "cell_type": "markdown",
   "id": "bb021a97-b1a3-46e0-b885-b6ef96113356",
   "metadata": {},
   "source": [
    "- http://sruprise.readthedocs.io/en/stable/ 에 정리되어있다\n",
    "- 간단한 예제 : 추천데이터를 학습용과 테스트용 데이터세트로 분리한 뒤 SVD 행렬분해를 통해 잠재요인협업필터링 수행하기"
   ]
  },
  {
   "cell_type": "code",
   "execution_count": 19,
   "id": "f1f99567-e757-4dc2-b494-e1ba3930abd5",
   "metadata": {},
   "outputs": [],
   "source": [
    "from surprise import SVD\n",
    "from surprise import Dataset\n",
    "from surprise import accuracy\n",
    "from surprise.model_selection import train_test_split"
   ]
  },
  {
   "cell_type": "code",
   "execution_count": 20,
   "id": "bd882792-2893-4b80-98e7-f7f2c817b7fb",
   "metadata": {},
   "outputs": [],
   "source": [
    "data = Dataset.load_builtin('ml-100k')\n",
    "# 수행시마다 동일하게 데이터를 분할하기 위해 random_state값 부여\n",
    "trainset, testset = train_test_split(data, test_size=0.2, random_state=0)"
   ]
  },
  {
   "attachments": {},
   "cell_type": "markdown",
   "id": "f0df1efc-231b-419f-a2ac-407a2f55db1f",
   "metadata": {},
   "source": [
    "- surprise는 자체적으로 로우레벨의 데이터를 칼럼 레벨의 데이터로 변경하므로 원본인 로우 레벨의 사용자-아이템 데이터를 데이터 세트로 적용해야한다."
   ]
  },
  {
   "cell_type": "code",
   "execution_count": 21,
   "id": "b77a04e3-119a-46dc-8c6d-49c54208abe2",
   "metadata": {},
   "outputs": [
    {
     "data": {
      "text/plain": [
       "<surprise.prediction_algorithms.matrix_factorization.SVD at 0x1cfe27c13d0>"
      ]
     },
     "execution_count": 21,
     "metadata": {},
     "output_type": "execute_result"
    }
   ],
   "source": [
    "# SVD로 잠재 요인 협업 필터링 수행\n",
    "algo=SVD() # 알고리즘 객체 생성\n",
    "algo.fit(trainset)"
   ]
  },
  {
   "attachments": {},
   "cell_type": "markdown",
   "id": "bc94ccef-b689-4107-a9a3-983189e06522",
   "metadata": {},
   "source": [
    "- surprise에서 추천을 예측하는 메서드는 test()와 predict()이다.\n",
    "- test()는 사용자-아이템 평점 데이터 세트 전체에 대해서 추천을 예측하는 메서드\n",
    "- predict()는 개별 사용자와 영화에 대한 추천 평점을 반환하는 메서드"
   ]
  },
  {
   "cell_type": "code",
   "execution_count": 22,
   "id": "bad7e50a-7489-4021-80a1-4d74c138eade",
   "metadata": {},
   "outputs": [
    {
     "name": "stdout",
     "output_type": "stream",
     "text": [
      "prediction type: <class 'list'> size: 20000\n",
      "prediction 결과의 최초 5개 추출:\n"
     ]
    },
    {
     "data": {
      "text/plain": [
       "[Prediction(uid='269', iid='17', r_ui=2.0, est=2.46368560230615, details={'was_impossible': False}),\n",
       " Prediction(uid='704', iid='382', r_ui=4.0, est=3.6198566609939444, details={'was_impossible': False}),\n",
       " Prediction(uid='829', iid='475', r_ui=4.0, est=4.214699151236109, details={'was_impossible': False}),\n",
       " Prediction(uid='747', iid='274', r_ui=4.0, est=3.7571869625501684, details={'was_impossible': False}),\n",
       " Prediction(uid='767', iid='98', r_ui=5.0, est=4.7789277327723125, details={'was_impossible': False})]"
      ]
     },
     "execution_count": 22,
     "metadata": {},
     "output_type": "execute_result"
    }
   ],
   "source": [
    "# 테스트데이터 세트에 대해 추천 수행\n",
    "predictions = algo.test(testset)\n",
    "print('prediction type:', type(predictions), 'size:',len(predictions))\n",
    "print('prediction 결과의 최초 5개 추출:')\n",
    "predictions[:5]\n",
    "# 개별 사용자 아이디(uid), 영화(아이템)아이디(iid), 실제 평점(r_ui)정보에 기반해 surprise의 추천 예측 평점(est)데이터를 튜플 형태로 갖고있다.\n",
    "# was_impossible이 True면 예측값을 생성할 수 없는 데이터라는 의미이다."
   ]
  },
  {
   "cell_type": "code",
   "execution_count": 23,
   "id": "4c750972-d3f7-450f-badb-7279079a0323",
   "metadata": {
    "jupyter": {
     "source_hidden": true
    },
    "tags": []
   },
   "outputs": [
    {
     "data": {
      "text/plain": [
       "[('269', '17', 2.46368560230615),\n",
       " ('704', '382', 3.6198566609939444),\n",
       " ('829', '475', 4.214699151236109)]"
      ]
     },
     "execution_count": 23,
     "metadata": {},
     "output_type": "execute_result"
    }
   ],
   "source": [
    "[(pred.uid, pred.iid, pred.est) for pred in predictions[:3]]"
   ]
  },
  {
   "cell_type": "code",
   "execution_count": 24,
   "id": "85d2c45a-0628-43de-b2c9-e7947986d6a2",
   "metadata": {},
   "outputs": [
    {
     "name": "stdout",
     "output_type": "stream",
     "text": [
      "user: 196        item: 302        r_ui = None   est = 4.06   {'was_impossible': False}\n"
     ]
    }
   ],
   "source": [
    "# predict로 추천예측해보기\n",
    "# 사용자 아이디, 아이템 아이디를 문자열로 입력 -> 추천 예측 평점을 est로 반환\n",
    "uid=str(196)\n",
    "iid=str(302)\n",
    "pred=algo.predict(uid,iid)\n",
    "print(pred)"
   ]
  },
  {
   "cell_type": "code",
   "execution_count": 25,
   "id": "b653f02c-38cd-414e-a95f-79519291be29",
   "metadata": {},
   "outputs": [
    {
     "name": "stdout",
     "output_type": "stream",
     "text": [
      "RMSE: 0.9482\n"
     ]
    },
    {
     "data": {
      "text/plain": [
       "0.9481573362793058"
      ]
     },
     "execution_count": 25,
     "metadata": {},
     "output_type": "execute_result"
    }
   ],
   "source": [
    "accuracy.rmse(predictions)"
   ]
  },
  {
   "attachments": {},
   "cell_type": "markdown",
   "id": "ddec4ff5-6e55-4856-acde-c28690b015b2",
   "metadata": {},
   "source": [
    "### 02. OS파일 데이터를 surprise데이터 세트로 로딩"
   ]
  },
  {
   "cell_type": "code",
   "execution_count": 26,
   "id": "115d5a76-09df-46b2-8457-6f4e346b9144",
   "metadata": {},
   "outputs": [],
   "source": [
    "import pandas as pd\n",
    "ratings=pd.read_csv('./data/ratings_small.csv')\n",
    "# ratings_noh.csv파일로 언로드시 인덱스와 헤더를 모두 제거한 새로운 파일 생성\n",
    "ratings.to_csv('./data/ratings_noh.csv', index=False, header=False)"
   ]
  },
  {
   "attachments": {},
   "cell_type": "markdown",
   "id": "9cee66a6-cbd1-46d9-b2f7-2319c9f274f1",
   "metadata": {},
   "source": [
    "- Reader 클래스의 주요 생성 파라미터\n",
    "    - line_format(string) : 칼럼을 순서대로 나열. 입력된 문자열을 공백으로 분리해 칼럼으로 인식\n",
    "    - sep(char) : 칼럼을 분리하는 분리자(문자), 디폴트는 '\\t'\n",
    "    - rating_scale(tuple,optional) : 평점 값의 최소~ 최대 설정. 디폴트는(1,5)"
   ]
  },
  {
   "cell_type": "code",
   "execution_count": 27,
   "id": "b8ece47a-2e6f-44ae-ab57-25ea804aced9",
   "metadata": {},
   "outputs": [],
   "source": [
    "from surprise import Reader\n",
    "\n",
    "# 컬럼의 분리문자는 콤마, 평점 단위는 0.5, 최대평점 5\n",
    "reader = Reader(line_format='user item rating timestamp', sep=',', rating_scale=(0.5, 5))\n",
    "data=Dataset.load_from_file('./data/ratings_noh.csv', reader=reader)"
   ]
  },
  {
   "cell_type": "code",
   "execution_count": 28,
   "id": "6253e4de-bb96-49ca-8784-5581c61224a4",
   "metadata": {},
   "outputs": [
    {
     "name": "stdout",
     "output_type": "stream",
     "text": [
      "RMSE: 0.8851\n"
     ]
    },
    {
     "data": {
      "text/plain": [
       "0.8850646057753477"
      ]
     },
     "execution_count": 28,
     "metadata": {},
     "output_type": "execute_result"
    }
   ],
   "source": [
    "# SVD 행렬분해기법을 이용해 추천 예측 수행\n",
    "trainset, testset = train_test_split(data, test_size=0.2, random_state=0)\n",
    "\n",
    "# 수행시마다 동일한 결과 도출을 위해 random_state 설정\n",
    "# 잠재요인 크기 K값을 나타내는 파라미터인 n_facctors 50으로 설정\n",
    "algo = SVD(n_factors=50, random_state=0)\n",
    "\n",
    "# 학습 데이터 세트로 학습하고 테스트 데이터로 평점 예측 후 rmse 평가\n",
    "algo.fit(trainset)\n",
    "predictions = algo.test( testset )\n",
    "accuracy.rmse(predictions)"
   ]
  },
  {
   "attachments": {},
   "cell_type": "markdown",
   "id": "1fc705b5-0891-4594-8a7c-7b639ab58f16",
   "metadata": {},
   "source": [
    "### 03. DataFrame에서 surprsie 데이터 세트로 로딩\n",
    "- 주의할 점은 사용자 아이디, 아이템 아이디, 평점 컬럼 순서를 지켜야 한다."
   ]
  },
  {
   "cell_type": "code",
   "execution_count": 29,
   "id": "caa24d08-64db-4624-b78a-b37fa284f2cd",
   "metadata": {},
   "outputs": [],
   "source": [
    "import pandas as pd\n",
    "from surprise import Reader, Dataset\n",
    " \n",
    "ratings = pd.read_csv('./data/ratings_small.csv')\n",
    "reader = Reader(rating_scale=(0.5, 5.0))\n",
    " \n",
    "# ratings DataFrame 에서 컬럼은 사용자 아이디, 아이템 아이디, 평점 순서를 지켜야 합니다.\n",
    "data = Dataset.load_from_df(ratings[['userId', 'movieId', 'rating']], reader)\n",
    "trainset, testset = train_test_split(data, test_size=0.2, random_state=0)\n"
   ]
  },
  {
   "cell_type": "code",
   "execution_count": 30,
   "id": "e5fface9-4888-4ab4-91b5-b75a3474a232",
   "metadata": {},
   "outputs": [
    {
     "name": "stdout",
     "output_type": "stream",
     "text": [
      "RMSE: 0.8851\n"
     ]
    },
    {
     "data": {
      "text/plain": [
       "0.8850646057753477"
      ]
     },
     "execution_count": 30,
     "metadata": {},
     "output_type": "execute_result"
    }
   ],
   "source": [
    "algo = SVD(n_factors=50, random_state=0)\n",
    "algo.fit(trainset)\n",
    "predictions = algo.test( testset )\n",
    "accuracy.rmse(predictions)"
   ]
  },
  {
   "attachments": {},
   "cell_type": "markdown",
   "id": "380097e7-701e-4343-b9f1-2c16b282fdd1",
   "metadata": {},
   "source": [
    "### 04. 교차검증과 하이퍼 파라미터 튜닝"
   ]
  },
  {
   "attachments": {},
   "cell_type": "markdown",
   "id": "ac28eec9-1ae9-46c4-a3d8-4347c217cf6b",
   "metadata": {},
   "source": [
    "- Surprise 는 교차 검증과 하이퍼 파라미터 튜닝을 위해 사이킷런과 유사한 cross_validate() 와 GridSearchCV 클래스를 제공한다.\n",
    "- cross_validate()는 인자로 알고리즘 객체, 데이터, 성능 평가 방법, 폴드 데이터 세트 개수(cv)를 입력받아, 출력결과와 같이 폴드별 성능 평가 수치와 전체 폴드의 평균 성능 평가 수치를 함께 보여준다."
   ]
  },
  {
   "cell_type": "code",
   "execution_count": 31,
   "id": "139d2c09-1504-44fb-b9b8-4f481b5061ec",
   "metadata": {},
   "outputs": [
    {
     "name": "stdout",
     "output_type": "stream",
     "text": [
      "Evaluating RMSE, MAE of algorithm SVD on 5 split(s).\n",
      "\n",
      "                  Fold 1  Fold 2  Fold 3  Fold 4  Fold 5  Mean    Std     \n",
      "RMSE (testset)    0.8966  0.9014  0.8884  0.8965  0.8885  0.8943  0.0051  \n",
      "MAE (testset)     0.6901  0.6951  0.6843  0.6895  0.6832  0.6884  0.0043  \n",
      "Fit time          1.05    1.06    1.06    1.03    1.06    1.05    0.01    \n",
      "Test time         0.29    0.17    0.31    0.17    0.22    0.23    0.06    \n"
     ]
    },
    {
     "data": {
      "text/plain": [
       "{'test_rmse': array([0.8966345 , 0.90135445, 0.88842928, 0.89647544, 0.88848994]),\n",
       " 'test_mae': array([0.69006133, 0.69508191, 0.6842963 , 0.68949352, 0.68324344]),\n",
       " 'fit_time': (1.0480284690856934,\n",
       "  1.0642704963684082,\n",
       "  1.0552177429199219,\n",
       "  1.030167579650879,\n",
       "  1.0569953918457031),\n",
       " 'test_time': (0.28812170028686523,\n",
       "  0.17130446434020996,\n",
       "  0.30765819549560547,\n",
       "  0.1675417423248291,\n",
       "  0.21860766410827637)}"
      ]
     },
     "execution_count": 31,
     "metadata": {},
     "output_type": "execute_result"
    }
   ],
   "source": [
    "from surprise.model_selection import cross_validate\n",
    " \n",
    "# Pandas DataFrame에서 Surprise Dataset으로 데이터 로딩\n",
    "ratings = pd.read_csv('./data/ratings_small.csv') # reading data in pandas df\n",
    "reader = Reader(rating_scale=(0.5, 5.0))\n",
    "data = Dataset.load_from_df(ratings[['userId', 'movieId', 'rating']], reader)\n",
    " \n",
    "algo = SVD(random_state=0)\n",
    "cross_validate(algo, data, measures=['RMSE', 'MAE'], cv=5, verbose=True)\n",
    "# 폴드별 성능평가수치와 전체 폴드의 평균 성능평가수치를 출력"
   ]
  },
  {
   "attachments": {},
   "cell_type": "markdown",
   "id": "71d964e0-a1ee-4406-87be-944c03f9d8fc",
   "metadata": {},
   "source": [
    "- Surprise 는 GridSearchCV를 통해 교차 검증을 통한 하이퍼 파라미터 최적화를 수행할 수 있다. \n",
    "- 하이퍼 파라미터 최적화는 알고리즘 유형에 따라 다를 수 있지만, SVD의 경우 주로 SGD(점진적 하강 방식)의 반복 횟수를 지정하는 n_epochs와 SVD의 잠재 요인 K의 크기를 지정하는 n_factors를 튜닝한다. "
   ]
  },
  {
   "cell_type": "code",
   "execution_count": 32,
   "id": "216bbdfa-66e2-48a9-9ee0-b21f7a60ff7a",
   "metadata": {},
   "outputs": [
    {
     "name": "stdout",
     "output_type": "stream",
     "text": [
      "0.8993211310834207\n",
      "{'n_epochs': 20, 'n_factors': 50}\n"
     ]
    }
   ],
   "source": [
    "from surprise.model_selection import GridSearchCV\n",
    " \n",
    "# 최적화할 파라미터들을 딕셔너리 형태로 지정.\n",
    "param_grid = {'n_epochs': [20, 40, 60], 'n_factors': [50, 100, 200] }\n",
    " \n",
    "# CV를 3개 폴드 세트로 지정, 성능 평가는 rmse, mse로 수행 하도록 GridSearchCV 구성\n",
    "gs = GridSearchCV(SVD, param_grid, measures=['rmse', 'mae'], cv=3)\n",
    "gs.fit(data)\n",
    " \n",
    "# CV가 3일때 최고 RMSE Evaluation 점수와 그때의 하이퍼 파라미터\n",
    "print(gs.best_score['rmse'])\n",
    "print(gs.best_params['rmse'])\n",
    "# n_epochs:20, n_factors:50일때 3개 폴드의 검증 데이터 세트에서 최적 RMSE가 약 0.8994로 도출되었다."
   ]
  },
  {
   "cell_type": "code",
   "execution_count": 33,
   "id": "256a0d02",
   "metadata": {},
   "outputs": [
    {
     "name": "stdout",
     "output_type": "stream",
     "text": [
      "사용자 아이디 9는 영화 아이디 42의 평점 없음\n",
      "    movieId                   title              genres\n",
      "40       42  Dead Presidents (1995)  Action|Crime|Drama\n"
     ]
    }
   ],
   "source": [
    "from surprise.dataset import DatasetAutoFolds\n",
    " \n",
    "reader = Reader(line_format='user item rating timestamp', sep=',', rating_scale=(0.5, 5))\n",
    "# DatasetAutoFolds 클래스를 ratings_noh.csv 파일 기반으로 생성.\n",
    "data_folds = DatasetAutoFolds(ratings_file='./data/ratings_noh.csv', reader=reader)\n",
    " \n",
    "#전체 데이터를 학습데이터로 생성함.\n",
    "trainset = data_folds.build_full_trainset()\n",
    " \n",
    " \n",
    "algo = SVD(n_epochs=20, n_factors=50, random_state=0)\n",
    "algo.fit(trainset)\n",
    " \n",
    " \n",
    "# 영화에 대한 상세 속성 정보 DataFrame로딩\n",
    "movies = pd.read_csv('./data/movies.csv')\n",
    " \n",
    "# userId=9 의 movieId 데이터 추출하여 movieId=42 데이터가 있는지 확인.\n",
    "movieIds = ratings[ratings['userId']==9]['movieId']\n",
    "if movieIds[movieIds==42].count() == 0:\n",
    "    print('사용자 아이디 9는 영화 아이디 42의 평점 없음')\n",
    " \n",
    "print(movies[movies['movieId']==42])"
   ]
  },
  {
   "cell_type": "code",
   "execution_count": 34,
   "id": "728d17f5",
   "metadata": {},
   "outputs": [
    {
     "name": "stdout",
     "output_type": "stream",
     "text": [
      "user: 9          item: 42         r_ui = None   est = 2.64   {'was_impossible': False}\n"
     ]
    }
   ],
   "source": [
    "uid = str(9)\n",
    "iid = str(42)\n",
    " \n",
    "pred = algo.predict(uid, iid, verbose=True)"
   ]
  },
  {
   "cell_type": "code",
   "execution_count": 35,
   "id": "b3ebfff6",
   "metadata": {},
   "outputs": [
    {
     "name": "stdout",
     "output_type": "stream",
     "text": [
      "평점 매긴 영화수: 45 추천대상 영화수: 9080 전체 영화수: 9125\n"
     ]
    }
   ],
   "source": [
    "def get_unseen_surprise(ratings, movies, userId):\n",
    "    #입력값으로 들어온 userId에 해당하는 사용자가 평점을 매긴 모든 영화를 리스트로 생성\n",
    "    seen_movies = ratings[ratings['userId']== userId]['movieId'].tolist()\n",
    "     \n",
    "    # 모든 영화들의 movieId를 리스트로 생성.\n",
    "    total_movies = movies['movieId'].tolist()\n",
    "     \n",
    "    # 모든 영화들의 movieId중 이미 평점을 매긴 영화의 movieId를 제외하여 리스트로 생성\n",
    "    unseen_movies= [movie for movie in total_movies if movie not in seen_movies]\n",
    "    print('평점 매긴 영화수:',len(seen_movies), '추천대상 영화수:',len(unseen_movies), \\\n",
    "          '전체 영화수:',len(total_movies))\n",
    "     \n",
    "    return unseen_movies\n",
    " \n",
    "unseen_movies = get_unseen_surprise(ratings, movies, 9)"
   ]
  },
  {
   "cell_type": "code",
   "execution_count": 36,
   "id": "e4f21184",
   "metadata": {},
   "outputs": [
    {
     "name": "stdout",
     "output_type": "stream",
     "text": [
      "평점 매긴 영화수: 45 추천대상 영화수: 9080 전체 영화수: 9125\n",
      "##### Top-10 추천 영화 리스트 #####\n",
      "Usual Suspects, The (1995) : 4.400579409001147\n",
      "Godfather, The (1972) : 4.370540045092638\n",
      "It Happened One Night (1934) : 4.363849637541674\n",
      "Casablanca (1942) : 4.336024874543918\n",
      "Maltese Falcon, The (1941) : 4.321015160843752\n",
      "All About Eve (1950) : 4.309431147405599\n",
      "It's a Wonderful Life (1946) : 4.303661756312046\n",
      "African Queen, The (1951) : 4.289780175135358\n",
      "Cinema Paradiso (Nuovo cinema Paradiso) (1989) : 4.283687861376393\n",
      "Modern Times (1936) : 4.271531364943996\n"
     ]
    }
   ],
   "source": [
    "def recomm_movie_by_surprise(algo, userId, unseen_movies, top_n=10):\n",
    "    # 알고리즘 객체의 predict() 메서드를 평점이 없는 영화에 반복 수행한 후 결과를 list 객체로 저장\n",
    "    predictions = [algo.predict(str(userId), str(movieId)) for movieId in unseen_movies]\n",
    "     \n",
    "    # predictions list 객체는 surprise의 Predictions 객체를 원소로 가지고 있음.\n",
    "    # [Prediction(uid='9', iid='1', est=3.69), Prediction(uid='9', iid='2', est=2.98),,,,]\n",
    "    # 이를 est 값으로 정렬하기 위해서 아래의 sortkey_est 함수를 정의함.\n",
    "    # sortkey_est 함수는 list 객체의 sort() 함수의 키 값으로 사용되어 정렬 수행.\n",
    "    def sortkey_est(pred):\n",
    "        return pred.est\n",
    "     \n",
    "    # sortkey_est( ) 반환값의 내림 차순으로 정렬 수행하고 top_n개의 최상위 값 추출.\n",
    "    predictions.sort(key=sortkey_est, reverse=True)\n",
    "    top_predictions= predictions[:top_n]\n",
    "     \n",
    "    # top_n으로 추출된 영화의 정보 추출. 영화 아이디, 추천 예상 평점, 제목 추출\n",
    "    top_movie_ids = [ int(pred.iid) for pred in top_predictions]\n",
    "    top_movie_rating = [ pred.est for pred in top_predictions]\n",
    "    top_movie_titles = movies[movies.movieId.isin(top_movie_ids)]['title']\n",
    "    top_movie_preds = [ (id, title, rating) for id, title, rating in zip(top_movie_ids, top_movie_titles, top_movie_rating)]\n",
    "     \n",
    "    return top_movie_preds\n",
    " \n",
    "unseen_movies = get_unseen_surprise(ratings, movies, 9)\n",
    "top_movie_preds = recomm_movie_by_surprise(algo, 9, unseen_movies, top_n=10)\n",
    "print('##### Top-10 추천 영화 리스트 #####')\n",
    " \n",
    "for top_movie in top_movie_preds:\n",
    "    print(top_movie[1], \":\", top_movie[2])"
   ]
  }
 ],
 "metadata": {
  "kernelspec": {
   "display_name": "Python 3 (ipykernel)",
   "language": "python",
   "name": "python3"
  },
  "language_info": {
   "codemirror_mode": {
    "name": "ipython",
    "version": 3
   },
   "file_extension": ".py",
   "mimetype": "text/x-python",
   "name": "python",
   "nbconvert_exporter": "python",
   "pygments_lexer": "ipython3",
   "version": "3.11.1"
  }
 },
 "nbformat": 4,
 "nbformat_minor": 5
}
