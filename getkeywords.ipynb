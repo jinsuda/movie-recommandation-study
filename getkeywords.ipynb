{
 "cells": [
  {
   "cell_type": "code",
   "execution_count": 7,
   "metadata": {},
   "outputs": [],
   "source": [
    "import json\n",
    "import requests\n",
    "import pandas as pd"
   ]
  },
  {
   "cell_type": "code",
   "execution_count": 2,
   "metadata": {},
   "outputs": [],
   "source": [
    "data = []\n",
    "with open('./tmdbKr.json','r',encoding='utf8') as file :\n",
    "    data= json.load(file)"
   ]
  },
  {
   "cell_type": "code",
   "execution_count": 3,
   "metadata": {},
   "outputs": [],
   "source": [
    "\n",
    "def get_keywords(id):\n",
    "    url = f'https://api.themoviedb.org/3/movie/{str(id)}/keywords?api_key=7a1258842909fa315bd1a319017098ca&language=ko-KR'\n",
    "    get = requests.get(url)\n",
    "    data = get.json()\n",
    "    return data\n"
   ]
  },
  {
   "cell_type": "code",
   "execution_count": 4,
   "metadata": {},
   "outputs": [],
   "source": [
    "# 영화데이터 id값\n",
    "keywords_data = []\n",
    "for i in range(len(data)):\n",
    "\n",
    "    if data[i]['model'] == 'movies.movie':\n",
    "        pk = data[i]['pk']\n",
    "        keywords_data.append(get_keywords(pk))\n"
   ]
  },
  {
   "cell_type": "code",
   "execution_count": 5,
   "metadata": {},
   "outputs": [
    {
     "data": {
      "text/plain": [
       "{'id': 640146,\n",
       " 'keywords': [{'id': 1701, 'name': 'hero'},\n",
       "  {'id': 3126, 'name': 'ant'},\n",
       "  {'id': 9663, 'name': 'sequel'},\n",
       "  {'id': 9715, 'name': 'superhero'},\n",
       "  {'id': 9717, 'name': 'based on comic'},\n",
       "  {'id': 18035, 'name': 'family'},\n",
       "  {'id': 155030, 'name': 'superhero team'},\n",
       "  {'id': 179430, 'name': 'aftercreditsstinger'},\n",
       "  {'id': 179431, 'name': 'duringcreditsstinger'},\n",
       "  {'id': 180547, 'name': 'marvel cinematic universe (mcu)'}]}"
      ]
     },
     "execution_count": 5,
     "metadata": {},
     "output_type": "execute_result"
    }
   ],
   "source": [
    "keywords_data[0]"
   ]
  },
  {
   "cell_type": "code",
   "execution_count": 6,
   "metadata": {},
   "outputs": [],
   "source": [
    "with open('tmdbKeyword.json', 'w', encoding=\"UTF-8\") as f:\n",
    "        json.dump(keywords_data, f, indent=4,ensure_ascii=False)"
   ]
  },
  {
   "cell_type": "code",
   "execution_count": 8,
   "metadata": {},
   "outputs": [],
   "source": [
    "keywords = []\n",
    "with open('./tmdbKeyword.json','r',encoding='utf8') as file :\n",
    "    keywords= json.load(file)"
   ]
  },
  {
   "cell_type": "code",
   "execution_count": 12,
   "metadata": {},
   "outputs": [],
   "source": [
    "df = pd.DataFrame(columns=['id','keywords'])"
   ]
  },
  {
   "cell_type": "code",
   "execution_count": 15,
   "metadata": {},
   "outputs": [
    {
     "ename": "TypeError",
     "evalue": "list indices must be integers or slices, not str",
     "output_type": "error",
     "traceback": [
      "\u001b[1;31m---------------------------------------------------------------------------\u001b[0m",
      "\u001b[1;31mTypeError\u001b[0m                                 Traceback (most recent call last)",
      "Cell \u001b[1;32mIn[15], line 9\u001b[0m\n\u001b[0;32m      7\u001b[0m \u001b[39mfor\u001b[39;00m i \u001b[39min\u001b[39;00m \u001b[39mrange\u001b[39m(\u001b[39mlen\u001b[39m(keywords)) :\n\u001b[0;32m      8\u001b[0m     \u001b[39mid\u001b[39m \u001b[39m=\u001b[39m keywords[i][\u001b[39m'\u001b[39m\u001b[39mid\u001b[39m\u001b[39m'\u001b[39m]\n\u001b[1;32m----> 9\u001b[0m     keyword \u001b[39m=\u001b[39m keywords[i][\u001b[39m'\u001b[39;49m\u001b[39mkeywords\u001b[39;49m\u001b[39m'\u001b[39;49m][\u001b[39m'\u001b[39;49m\u001b[39mname\u001b[39;49m\u001b[39m'\u001b[39;49m]\n\u001b[0;32m     10\u001b[0m     \u001b[39m#keyword_str = ','.join(e for e in keyword) # 여러값이 있어서 해야하는데 이해안감\u001b[39;00m\n\u001b[0;32m     12\u001b[0m     keywords_json \u001b[39m=\u001b[39m {\u001b[39m'\u001b[39m\u001b[39mid\u001b[39m\u001b[39m'\u001b[39m:[\u001b[39mid\u001b[39m],\u001b[39m'\u001b[39m\u001b[39mkeywords\u001b[39m\u001b[39m'\u001b[39m:[keyword]}\n",
      "\u001b[1;31mTypeError\u001b[0m: list indices must be integers or slices, not str"
     ]
    }
   ],
   "source": [
    "# 키워드데이터\n",
    "\n",
    "# 모든데이터 for문 돌면서\n",
    "\n",
    "# 각 값들을 뽑아서 새로운 데이터프레임으로 만들고 \n",
    "# 기존 데이터프레임에 합쳐주는 과정\n",
    "for i in range(len(keywords)) :\n",
    "    id = keywords[i]['id']\n",
    "    keyword = keywords[i]['keywords']['name']\n",
    "    keyword_str = ','.join(e for e in keyword) # 여러값이 있어서 해야하는데 이해안감\n",
    "    \n",
    "    keywords_json = {'id':[id],'keywords':[keyword_str]}\n",
    "    df_tmp= pd.DataFrame(keywords_json)\n",
    "    df =  pd.concat([df, df_tmp], ignore_index = True)"
   ]
  }
 ],
 "metadata": {
  "kernelspec": {
   "display_name": "venv",
   "language": "python",
   "name": "python3"
  },
  "language_info": {
   "codemirror_mode": {
    "name": "ipython",
    "version": 3
   },
   "file_extension": ".py",
   "mimetype": "text/x-python",
   "name": "python",
   "nbconvert_exporter": "python",
   "pygments_lexer": "ipython3",
   "version": "3.11.1"
  },
  "orig_nbformat": 4
 },
 "nbformat": 4,
 "nbformat_minor": 2
}
