{
 "cells": [
  {
   "cell_type": "code",
   "execution_count": 11,
   "metadata": {},
   "outputs": [],
   "source": [
    "import json\n",
    "import requests\n"
   ]
  },
  {
   "cell_type": "code",
   "execution_count": 12,
   "metadata": {},
   "outputs": [],
   "source": [
    "data = []\n",
    "with open('./tmdbKr.json','r',encoding='utf8') as file :\n",
    "    data= json.load(file)"
   ]
  },
  {
   "cell_type": "code",
   "execution_count": 13,
   "metadata": {},
   "outputs": [],
   "source": [
    "\n",
    "def get_keywords(id):\n",
    "    url = f'https://api.themoviedb.org/3/movie/{str(id)}/keywords?api_key=7a1258842909fa315bd1a319017098ca&language=ko-KR'\n",
    "    get = requests.get(url)\n",
    "    data = get.json()\n",
    "    return data\n"
   ]
  },
  {
   "cell_type": "code",
   "execution_count": 14,
   "metadata": {},
   "outputs": [
    {
     "ename": "AttributeError",
     "evalue": "module 'requests' has no attribute 'get'",
     "output_type": "error",
     "traceback": [
      "\u001b[1;31m---------------------------------------------------------------------------\u001b[0m",
      "\u001b[1;31mAttributeError\u001b[0m                            Traceback (most recent call last)",
      "Cell \u001b[1;32mIn[14], line 7\u001b[0m\n\u001b[0;32m      5\u001b[0m \u001b[39mif\u001b[39;00m data[i][\u001b[39m'\u001b[39m\u001b[39mmodel\u001b[39m\u001b[39m'\u001b[39m] \u001b[39m==\u001b[39m \u001b[39m'\u001b[39m\u001b[39mmovies.movie\u001b[39m\u001b[39m'\u001b[39m:\n\u001b[0;32m      6\u001b[0m     pk \u001b[39m=\u001b[39m data[i][\u001b[39m'\u001b[39m\u001b[39mpk\u001b[39m\u001b[39m'\u001b[39m]\n\u001b[1;32m----> 7\u001b[0m     keywords_data\u001b[39m.\u001b[39mappend(get_keywords(pk))\n",
      "Cell \u001b[1;32mIn[13], line 3\u001b[0m, in \u001b[0;36mget_keywords\u001b[1;34m(id)\u001b[0m\n\u001b[0;32m      1\u001b[0m \u001b[39mdef\u001b[39;00m \u001b[39mget_keywords\u001b[39m(\u001b[39mid\u001b[39m):\n\u001b[0;32m      2\u001b[0m     url \u001b[39m=\u001b[39m \u001b[39mf\u001b[39m\u001b[39m'\u001b[39m\u001b[39mhttps://api.themoviedb.org/3/movie/\u001b[39m\u001b[39m{\u001b[39;00m\u001b[39mstr\u001b[39m(\u001b[39mid\u001b[39m)\u001b[39m}\u001b[39;00m\u001b[39m/keywords?api_key=7a1258842909fa315bd1a319017098ca&language=ko-KR\u001b[39m\u001b[39m'\u001b[39m\n\u001b[1;32m----> 3\u001b[0m     get \u001b[39m=\u001b[39m requests\u001b[39m.\u001b[39;49mget(url)\n\u001b[0;32m      4\u001b[0m     data \u001b[39m=\u001b[39m get\u001b[39m.\u001b[39mjson()\n\u001b[0;32m      5\u001b[0m     \u001b[39mreturn\u001b[39;00m data\n",
      "\u001b[1;31mAttributeError\u001b[0m: module 'requests' has no attribute 'get'"
     ]
    }
   ],
   "source": [
    "# 영화데이터 id값\n",
    "keywords_data = []\n",
    "for i in range(len(data)):\n",
    "\n",
    "    if data[i]['model'] == 'movies.movie':\n",
    "        pk = data[i]['pk']\n",
    "        keywords_data.append(get_keywords(pk))\n"
   ]
  }
 ],
 "metadata": {
  "kernelspec": {
   "display_name": "venv",
   "language": "python",
   "name": "python3"
  },
  "language_info": {
   "codemirror_mode": {
    "name": "ipython",
    "version": 3
   },
   "file_extension": ".py",
   "mimetype": "text/x-python",
   "name": "python",
   "nbconvert_exporter": "python",
   "pygments_lexer": "ipython3",
   "version": "3.11.3"
  },
  "orig_nbformat": 4
 },
 "nbformat": 4,
 "nbformat_minor": 2
}
