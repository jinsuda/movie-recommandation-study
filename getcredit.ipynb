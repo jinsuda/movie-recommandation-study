{
 "cells": [
  {
   "cell_type": "code",
   "execution_count": 12,
   "metadata": {},
   "outputs": [],
   "source": [
    "import json\n",
    "import requests"
   ]
  },
  {
   "cell_type": "code",
   "execution_count": null,
   "metadata": {},
   "outputs": [],
   "source": [
    "data = []\n",
    "with open('./tmdbKr.json','r',encoding='utf8') as file :\n",
    "    data= json.load(file)\n",
    "\n",
    "data"
   ]
  },
  {
   "cell_type": "code",
   "execution_count": 10,
   "metadata": {},
   "outputs": [],
   "source": [
    "def get_credit(id) :\n",
    "    url = f'https://api.themoviedb.org/3/movie/{str(id)}/credits?api_key=7a1258842909fa315bd1a319017098ca&language=ko-KR'\n",
    "    print(url)"
   ]
  },
  {
   "cell_type": "code",
   "execution_count": null,
   "metadata": {},
   "outputs": [],
   "source": [
    "## 영화데이터 id값\n",
    "for i in range(len(data)) :\n",
    "    \n",
    "    if data[i]['model']=='movies.movie':\n",
    "        pk = data[i]['pk']\n",
    "        get_credit(pk)\n",
    "\n",
    "        \n",
    "# def create_credit_data():\n",
    "#     with open('tmdbCredit.json', 'r+') as f:\n",
    "#         credit_data = json.load(f)\n",
    "\n",
    "#     for page in range(1, 501):\n",
    "#         raw_data = requests.get(url.get_movie_url(page=page))\n",
    "#         json_data = raw_data.json()\n",
    "#         movies = json_data.get('results')\n",
    "\n",
    "#         for movie in movies:\n",
    "#             if movie.get('release_date') == \"\" or movie.get('poster_path') == \"\":\n",
    "#                 continue\n",
    "\n",
    "#             movie.pop('backdrop_path')\n",
    "#             movie.pop('video')\n",
    "#             movie['like_users'] = []\n",
    "#             tmp = {\n",
    "#                 'model': 'movies.movie',\n",
    "#                 'pk': movie.pop('id'),\n",
    "#                 'fields': movie,\n",
    "#             }\n",
    "#             credit_data.append(tmp)\n",
    "        \n",
    "with open('tmdbCredit.json', 'w', encoding=\"UTF-8\") as f:\n",
    "    json.dump(indent=4,ensure_ascii=False)"
   ]
  },
  {
   "cell_type": "code",
   "execution_count": 4,
   "metadata": {},
   "outputs": [],
   "source": []
  }
 ],
 "metadata": {
  "kernelspec": {
   "display_name": "venv",
   "language": "python",
   "name": "python3"
  },
  "language_info": {
   "codemirror_mode": {
    "name": "ipython",
    "version": 3
   },
   "file_extension": ".py",
   "mimetype": "text/x-python",
   "name": "python",
   "nbconvert_exporter": "python",
   "pygments_lexer": "ipython3",
   "version": "3.11.1"
  },
  "orig_nbformat": 4
 },
 "nbformat": 4,
 "nbformat_minor": 2
}
