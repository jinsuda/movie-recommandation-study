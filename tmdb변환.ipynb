{
 "cells": [
  {
   "cell_type": "code",
   "execution_count": 2,
   "metadata": {},
   "outputs": [],
   "source": [
    "import pandas as pd\n",
    "import json"
   ]
  },
  {
   "cell_type": "code",
   "execution_count": 13,
   "metadata": {},
   "outputs": [
    {
     "data": {
      "text/html": [
       "<div>\n",
       "<style scoped>\n",
       "    .dataframe tbody tr th:only-of-type {\n",
       "        vertical-align: middle;\n",
       "    }\n",
       "\n",
       "    .dataframe tbody tr th {\n",
       "        vertical-align: top;\n",
       "    }\n",
       "\n",
       "    .dataframe thead th {\n",
       "        text-align: right;\n",
       "    }\n",
       "</style>\n",
       "<table border=\"1\" class=\"dataframe\">\n",
       "  <thead>\n",
       "    <tr style=\"text-align: right;\">\n",
       "      <th></th>\n",
       "      <th>model</th>\n",
       "      <th>pk</th>\n",
       "      <th>fields</th>\n",
       "    </tr>\n",
       "  </thead>\n",
       "  <tbody>\n",
       "    <tr>\n",
       "      <th>0</th>\n",
       "      <td>movies.genre</td>\n",
       "      <td>28</td>\n",
       "      <td>{'name': '액션'}</td>\n",
       "    </tr>\n",
       "    <tr>\n",
       "      <th>1</th>\n",
       "      <td>movies.genre</td>\n",
       "      <td>12</td>\n",
       "      <td>{'name': '모험'}</td>\n",
       "    </tr>\n",
       "    <tr>\n",
       "      <th>2</th>\n",
       "      <td>movies.genre</td>\n",
       "      <td>16</td>\n",
       "      <td>{'name': '애니메이션'}</td>\n",
       "    </tr>\n",
       "    <tr>\n",
       "      <th>3</th>\n",
       "      <td>movies.genre</td>\n",
       "      <td>35</td>\n",
       "      <td>{'name': '코미디'}</td>\n",
       "    </tr>\n",
       "    <tr>\n",
       "      <th>4</th>\n",
       "      <td>movies.genre</td>\n",
       "      <td>80</td>\n",
       "      <td>{'name': '범죄'}</td>\n",
       "    </tr>\n",
       "    <tr>\n",
       "      <th>...</th>\n",
       "      <td>...</td>\n",
       "      <td>...</td>\n",
       "      <td>...</td>\n",
       "    </tr>\n",
       "    <tr>\n",
       "      <th>10005</th>\n",
       "      <td>movies.movie</td>\n",
       "      <td>505225</td>\n",
       "      <td>{'adult': False, 'genre_ids': [18, 53], 'origi...</td>\n",
       "    </tr>\n",
       "    <tr>\n",
       "      <th>10006</th>\n",
       "      <td>movies.movie</td>\n",
       "      <td>10988</td>\n",
       "      <td>{'adult': False, 'genre_ids': [9648, 53, 27], ...</td>\n",
       "    </tr>\n",
       "    <tr>\n",
       "      <th>10007</th>\n",
       "      <td>movies.movie</td>\n",
       "      <td>1051</td>\n",
       "      <td>{'adult': False, 'genre_ids': [28, 80, 53], 'o...</td>\n",
       "    </tr>\n",
       "    <tr>\n",
       "      <th>10008</th>\n",
       "      <td>movies.movie</td>\n",
       "      <td>871875</td>\n",
       "      <td>{'adult': False, 'genre_ids': [27, 9648, 10751...</td>\n",
       "    </tr>\n",
       "    <tr>\n",
       "      <th>10009</th>\n",
       "      <td>movies.movie</td>\n",
       "      <td>535544</td>\n",
       "      <td>{'adult': False, 'genre_ids': [18, 10749, 36],...</td>\n",
       "    </tr>\n",
       "  </tbody>\n",
       "</table>\n",
       "<p>10010 rows × 3 columns</p>\n",
       "</div>"
      ],
      "text/plain": [
       "              model      pk                                             fields\n",
       "0      movies.genre      28                                     {'name': '액션'}\n",
       "1      movies.genre      12                                     {'name': '모험'}\n",
       "2      movies.genre      16                                  {'name': '애니메이션'}\n",
       "3      movies.genre      35                                    {'name': '코미디'}\n",
       "4      movies.genre      80                                     {'name': '범죄'}\n",
       "...             ...     ...                                                ...\n",
       "10005  movies.movie  505225  {'adult': False, 'genre_ids': [18, 53], 'origi...\n",
       "10006  movies.movie   10988  {'adult': False, 'genre_ids': [9648, 53, 27], ...\n",
       "10007  movies.movie    1051  {'adult': False, 'genre_ids': [28, 80, 53], 'o...\n",
       "10008  movies.movie  871875  {'adult': False, 'genre_ids': [27, 9648, 10751...\n",
       "10009  movies.movie  535544  {'adult': False, 'genre_ids': [18, 10749, 36],...\n",
       "\n",
       "[10010 rows x 3 columns]"
      ]
     },
     "execution_count": 13,
     "metadata": {},
     "output_type": "execute_result"
    }
   ],
   "source": [
    "js = pd.read_json('tmdb.json')\n",
    "df = pd.DataFrame(js)\n",
    "df"
   ]
  },
  {
   "cell_type": "code",
   "execution_count": 50,
   "metadata": {},
   "outputs": [
    {
     "data": {
      "text/plain": [
       "'토르: 러브 앤 썬더'"
      ]
     },
     "execution_count": 50,
     "metadata": {},
     "output_type": "execute_result"
    }
   ],
   "source": [
    "df['fields'][100]['title']"
   ]
  },
  {
   "cell_type": "code",
   "execution_count": 53,
   "metadata": {},
   "outputs": [
    {
     "ename": "KeyError",
     "evalue": "'title'",
     "output_type": "error",
     "traceback": [
      "\u001b[1;31m---------------------------------------------------------------------------\u001b[0m",
      "\u001b[1;31mKeyError\u001b[0m                                  Traceback (most recent call last)",
      "Cell \u001b[1;32mIn[53], line 8\u001b[0m\n\u001b[0;32m      3\u001b[0m title\u001b[39m=\u001b[39m[]\n\u001b[0;32m      5\u001b[0m \u001b[39mfor\u001b[39;00m i \u001b[39min\u001b[39;00m \u001b[39mrange\u001b[39m(\u001b[39mlen\u001b[39m(df)):\n\u001b[0;32m      6\u001b[0m     \u001b[39m#genre_ids.append(df['fields'][i][[\"genre_ids\"]])\u001b[39;00m\n\u001b[0;32m      7\u001b[0m     \u001b[39m#popularity.append(df['fields'][i][\"popularity\"])\u001b[39;00m\n\u001b[1;32m----> 8\u001b[0m     title\u001b[39m.\u001b[39mappend(df[\u001b[39m'\u001b[39;49m\u001b[39mfields\u001b[39;49m\u001b[39m'\u001b[39;49m][i][\u001b[39m'\u001b[39;49m\u001b[39mtitle\u001b[39;49m\u001b[39m'\u001b[39;49m])\n\u001b[0;32m     10\u001b[0m df2 \u001b[39m=\u001b[39m pd\u001b[39m.\u001b[39mDataFrame({\n\u001b[0;32m     11\u001b[0m     \u001b[39m\"\u001b[39m\u001b[39mtitle\u001b[39m\u001b[39m\"\u001b[39m:title,\n\u001b[0;32m     12\u001b[0m })\n\u001b[0;32m     14\u001b[0m \u001b[39mprint\u001b[39m(df2)\n",
      "\u001b[1;31mKeyError\u001b[0m: 'title'"
     ]
    }
   ],
   "source": [
    "#genre_ids=[]\n",
    "#popularity=[]\n",
    "title=[]\n",
    "\n",
    "for i in range(len(df)):\n",
    "    #genre_ids.append(df['fields'][i][[\"genre_ids\"]])\n",
    "    #popularity.append(df['fields'][i][\"popularity\"])\n",
    "    title.append(df['fields'][i]['title'])\n",
    "        \n",
    "df2 = pd.DataFrame({\n",
    "    \"title\":title,\n",
    "})\n",
    "\n",
    "print(df2)\n"
   ]
  },
  {
   "cell_type": "code",
   "execution_count": 1,
   "metadata": {},
   "outputs": [
    {
     "name": "stdout",
     "output_type": "stream",
     "text": [
      "Scarface\n",
      "After getting a green card in exchange for assassinating a Cuban government official, Tony Montana stakes a claim on the drug trade in Miami. Viciously murdering anyone who stands in his way, Tony eventually becomes the biggest drug lord in the state, controlling nearly all the cocaine that comes through Miami. But increased pressure from the police, wars with Colombian drug cartels and his own drug-fueled paranoia serve to fuel the flames of his eventual downfall.\n",
      "83.822\n"
     ]
    }
   ],
   "source": [
    "from tmdbv3api import TMDb, Movie\n",
    "\n",
    "tmdb = TMDb()\n",
    "tmdb.api_key = \"234c446afa7c9156e6c9a101b724f5ae\"\n",
    "\n",
    "movie = Movie()\n",
    "\n",
    "m = movie.details(111)\n",
    "\n",
    "print(m.title)\n",
    "print(m.overview)\n",
    "print(m.popularity)\n"
   ]
  },
  {
   "cell_type": "code",
   "execution_count": 6,
   "metadata": {},
   "outputs": [
    {
     "name": "stdout",
     "output_type": "stream",
     "text": [
      "John Wick: Chapter 4 2023-03-22\n"
     ]
    }
   ],
   "source": [
    "import requests\n",
    "\n",
    "\n",
    "def SearchMovies(query, year):  # 영화 제목과 년도 정보를 받음\n",
    "\n",
    "    params = {\"api_key\": \"234c446afa7c9156e6c9a101b724f5ae\",\n",
    "          \"language\": \"ko\",\n",
    "          \"page\": \"1\",\n",
    "          \"query\": query,\n",
    "          \"include_adult\": \"true\",\n",
    "          \"year\": year}\n",
    "\n",
    "\n",
    "    url = \"https://api.themoviedb.org/3/search/movie\" # 정보를 요청할 주소\n",
    "    resp = requests.get(url, params=params)\n",
    "    data = resp.json()['results']\n",
    "\n",
    "\n",
    "    if(len(data) > 0): # 검색해서 나온 데이터가 있을 경우에만\n",
    "\n",
    "       for item in data : # 반복문 돌면서 영화 이름과 제작년도 출력\n",
    "           print(item['original_title'], item['release_date']) \n",
    "\n",
    "if __name__ == '__main__':\n",
    "    SearchMovies('존 윅',\"2023\")"
   ]
  }
 ],
 "metadata": {
  "kernelspec": {
   "display_name": "Python 3",
   "language": "python",
   "name": "python3"
  },
  "language_info": {
   "codemirror_mode": {
    "name": "ipython",
    "version": 3
   },
   "file_extension": ".py",
   "mimetype": "text/x-python",
   "name": "python",
   "nbconvert_exporter": "python",
   "pygments_lexer": "ipython3",
   "version": "3.11.3"
  },
  "orig_nbformat": 4
 },
 "nbformat": 4,
 "nbformat_minor": 2
}
