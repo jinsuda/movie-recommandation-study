{
 "cells": [
  {
   "cell_type": "code",
   "execution_count": 1,
   "metadata": {},
   "outputs": [],
   "source": [
    "import pandas as pd\n",
    "import json"
   ]
  },
  {
   "cell_type": "code",
   "execution_count": 9,
   "metadata": {},
   "outputs": [],
   "source": [
    "data = []\n",
    "with open('./tmdbKr.json','r',encoding='utf8') as file :\n",
    "    data= json.load(file)"
   ]
  },
  {
   "cell_type": "code",
   "execution_count": 10,
   "metadata": {},
   "outputs": [],
   "source": [
    "# 빈 데이터프레임\n",
    "df = pd.DataFrame(columns=['title','genres','id','release_date','overview','original_title','vote_average','vote_count','poster_path'])"
   ]
  },
  {
   "cell_type": "code",
   "execution_count": 11,
   "metadata": {},
   "outputs": [
    {
     "data": {
      "text/html": [
       "<div>\n",
       "<style scoped>\n",
       "    .dataframe tbody tr th:only-of-type {\n",
       "        vertical-align: middle;\n",
       "    }\n",
       "\n",
       "    .dataframe tbody tr th {\n",
       "        vertical-align: top;\n",
       "    }\n",
       "\n",
       "    .dataframe thead th {\n",
       "        text-align: right;\n",
       "    }\n",
       "</style>\n",
       "<table border=\"1\" class=\"dataframe\">\n",
       "  <thead>\n",
       "    <tr style=\"text-align: right;\">\n",
       "      <th></th>\n",
       "      <th>title</th>\n",
       "      <th>genres</th>\n",
       "      <th>id</th>\n",
       "      <th>release_date</th>\n",
       "      <th>overview</th>\n",
       "      <th>original_title</th>\n",
       "      <th>vote_average</th>\n",
       "      <th>vote_count</th>\n",
       "      <th>poster_path</th>\n",
       "    </tr>\n",
       "  </thead>\n",
       "  <tbody>\n",
       "  </tbody>\n",
       "</table>\n",
       "</div>"
      ],
      "text/plain": [
       "Empty DataFrame\n",
       "Columns: [title, genres, id, release_date, overview, original_title, vote_average, vote_count, poster_path]\n",
       "Index: []"
      ]
     },
     "execution_count": 11,
     "metadata": {},
     "output_type": "execute_result"
    }
   ],
   "source": [
    "df"
   ]
  },
  {
   "cell_type": "code",
   "execution_count": 24,
   "metadata": {},
   "outputs": [],
   "source": [
    "#url = \"https://image.tmdb.org/t/p/w500/{poster}\""
   ]
  },
  {
   "cell_type": "code",
   "execution_count": 12,
   "metadata": {},
   "outputs": [],
   "source": [
    "# 영화데이터\n",
    "\n",
    "# 모든데이터 for문 돌면서\n",
    "# model == movies.movie 일때\n",
    "# 각 값들을 뽑아서 새로운 데이터프레임으로 만들고 \n",
    "# 기존 데이터프레임에 합쳐주는 과정\n",
    "genre_list = list()\n",
    "for i in range(len(data)) :\n",
    "    if data[i]['model'] == 'movies.genre':\n",
    "        genre_list.append(data[i])\n",
    "    elif data[i]['model']=='movies.movie':\n",
    "        title =  data[i]['fields']['title']\n",
    "        gen = data[i]['fields']['genre_ids']\n",
    "        #print(gen)\n",
    "        #break\n",
    "        gen_id2str = list()\n",
    "        for gen_ in gen:\n",
    "            for _a in genre_list:\n",
    "                if _a['pk'] == gen_:\n",
    "                    gen_id2str.append(_a['fields']['name'])\n",
    "                    break    \n",
    "        \n",
    "        #print(gen_id2str)\n",
    "        #break\n",
    "            \n",
    "        \n",
    "        #gen_str = ','.join(str(e) for e in gen) # 여러값이 있어서 해야하는데 이해안감\n",
    "        id = data[i]['pk']\n",
    "        if 'release_date' not in data[i]['fields']:\n",
    "            continue\n",
    "        release_date = data[i]['fields']['release_date']\n",
    "        \n",
    "        overview = data[i]['fields']['overview']\n",
    "        original_title = data[i]['fields']['original_title']\n",
    "        vote_average = data[i]['fields']['vote_average']\n",
    "        vote_count = data[i]['fields']['vote_count']\n",
    "        poster_path = data[i]['fields']['poster_path']\n",
    "       \n",
    "        \n",
    "        # print(type(poster_path))\n",
    "\n",
    "        data_json = {'title':[title],'genres':[gen_id2str],'id':[id],'release_date':[release_date],'overview':[overview],'original_title':[original_title],'vote_average':[vote_average],'vote_count':[vote_count],'poster_path':[poster_path]}\n",
    "        df_tmp= pd.DataFrame(data_json)\n",
    "        df =  pd.concat([df, df_tmp], ignore_index = True)"
   ]
  },
  {
   "cell_type": "code",
   "execution_count": 13,
   "metadata": {},
   "outputs": [
    {
     "data": {
      "text/plain": [
       "'/cMWAzncszzIC1JivtQujZXk4lrJ.jpg'"
      ]
     },
     "execution_count": 13,
     "metadata": {},
     "output_type": "execute_result"
    }
   ],
   "source": [
    "df['poster_path'][700]"
   ]
  },
  {
   "cell_type": "code",
   "execution_count": null,
   "metadata": {},
   "outputs": [],
   "source": [
    "str_pp = list(df['poster_path'])\n",
    "str_pp = str_pp.apply(lambda x : ('').join(x))"
   ]
  },
  {
   "cell_type": "code",
   "execution_count": 14,
   "metadata": {},
   "outputs": [
    {
     "data": {
      "text/plain": [
       "title              0\n",
       "genres             0\n",
       "id                 0\n",
       "release_date       0\n",
       "overview           0\n",
       "original_title     0\n",
       "vote_average       0\n",
       "vote_count         0\n",
       "poster_path       14\n",
       "dtype: int64"
      ]
     },
     "execution_count": 14,
     "metadata": {},
     "output_type": "execute_result"
    }
   ],
   "source": [
    "df.isnull().sum()"
   ]
  },
  {
   "cell_type": "code",
   "execution_count": 15,
   "metadata": {},
   "outputs": [],
   "source": [
    "df.to_csv('./tmdbData.csv',encoding='utf8',index=False)\n",
    "#df.to_csv('./test.csv',encoding='utf8',index=False)"
   ]
  },
  {
   "attachments": {},
   "cell_type": "markdown",
   "metadata": {},
   "source": [
    "## 키워드"
   ]
  },
  {
   "cell_type": "code",
   "execution_count": 6,
   "metadata": {},
   "outputs": [],
   "source": [
    "# id 가 movie_id 이고 keywords 안 리스트형태로\n",
    "# keyword_id:value , name:value 형태\n",
    "\n",
    "# name value만 뽑아서 tmdbData에 컬럼추가\n",
    "\n",
    "key_data = []\n",
    "with open('./tmdbKeyword.json','r',encoding='utf8') as file :\n",
    "    key_data = json.load(file)"
   ]
  },
  {
   "cell_type": "code",
   "execution_count": 9,
   "metadata": {},
   "outputs": [
    {
     "data": {
      "text/plain": [
       "{'id': 640146,\n",
       " 'keywords': [{'id': 1701, 'name': 'hero'},\n",
       "  {'id': 3126, 'name': 'ant'},\n",
       "  {'id': 9663, 'name': 'sequel'},\n",
       "  {'id': 9715, 'name': 'superhero'},\n",
       "  {'id': 9717, 'name': 'based on comic'},\n",
       "  {'id': 18035, 'name': 'family'},\n",
       "  {'id': 155030, 'name': 'superhero team'},\n",
       "  {'id': 179430, 'name': 'aftercreditsstinger'},\n",
       "  {'id': 179431, 'name': 'duringcreditsstinger'},\n",
       "  {'id': 180547, 'name': 'marvel cinematic universe (mcu)'}]}"
      ]
     },
     "execution_count": 9,
     "metadata": {},
     "output_type": "execute_result"
    }
   ],
   "source": [
    "key_data[0]"
   ]
  },
  {
   "cell_type": "code",
   "execution_count": 19,
   "metadata": {},
   "outputs": [
    {
     "ename": "IndexError",
     "evalue": "list index out of range",
     "output_type": "error",
     "traceback": [
      "\u001b[1;31m---------------------------------------------------------------------------\u001b[0m",
      "\u001b[1;31mIndexError\u001b[0m                                Traceback (most recent call last)",
      "Cell \u001b[1;32mIn[19], line 32\u001b[0m\n\u001b[0;32m     27\u001b[0m poster_path \u001b[39m=\u001b[39m url,data[i][\u001b[39m'\u001b[39m\u001b[39mfields\u001b[39m\u001b[39m'\u001b[39m][\u001b[39m'\u001b[39m\u001b[39mposter_path\u001b[39m\u001b[39m'\u001b[39m]\n\u001b[0;32m     30\u001b[0m keywords \u001b[39m=\u001b[39m \u001b[39mlist\u001b[39m()\n\u001b[1;32m---> 32\u001b[0m \u001b[39mif\u001b[39;00m key_data[i][\u001b[39m'\u001b[39m\u001b[39mid\u001b[39m\u001b[39m'\u001b[39m] \u001b[39m==\u001b[39m data[i][\u001b[39m'\u001b[39m\u001b[39mpk\u001b[39m\u001b[39m'\u001b[39m]:\n\u001b[0;32m     33\u001b[0m     keywords\u001b[39m.\u001b[39mappend(key_data[\u001b[39m'\u001b[39m\u001b[39mkeywords\u001b[39m\u001b[39m'\u001b[39m][\u001b[39m'\u001b[39m\u001b[39mname\u001b[39m\u001b[39m'\u001b[39m])\n\u001b[0;32m     34\u001b[0m     \u001b[39m#print(keywords)\u001b[39;00m\n",
      "\u001b[1;31mIndexError\u001b[0m: list index out of range"
     ]
    }
   ],
   "source": [
    "# # 키워드 추가\n",
    "\n",
    "# genre_list = list()\n",
    "# for i in range(len(data)) :\n",
    "#     if data[i]['model'] == 'movies.genre':\n",
    "#         genre_list.append(data[i])\n",
    "#     elif data[i]['model']=='movies.movie':\n",
    "#         title =  data[i]['fields']['title']\n",
    "#         gen = data[i]['fields']['genre_ids']\n",
    "#         #print(gen)\n",
    "#         #break\n",
    "#         gen_id2str = list()\n",
    "#         for gen_ in gen:\n",
    "#             for _a in genre_list:\n",
    "#                 if _a['pk'] == gen_:\n",
    "#                     gen_id2str.append(_a['fields']['name'])\n",
    "#                     break \n",
    "#         id = data[i]['pk']\n",
    "#         if 'release_date' not in data[i]['fields']:\n",
    "#             continue\n",
    "#         release_date = data[i]['fields']['release_date']\n",
    "        \n",
    "#         overview = data[i]['fields']['overview']\n",
    "#         original_title = data[i]['fields']['original_title']\n",
    "#         vote_average = data[i]['fields']['vote_average']\n",
    "#         vote_count = data[i]['fields']['vote_count']\n",
    "#         poster_path = url,data[i]['fields']['poster_path']\n",
    "        \n",
    "        \n",
    "#         keywords = list()\n",
    "        \n",
    "#         if key_data[i]['id'] == data[i]['pk']:\n",
    "#             keywords.append(key_data['keywords']['name'])\n",
    "#             #print(keywords)\n",
    "\n",
    "            \n",
    "#         data_json = {'title':[title],'genres':[gen_id2str],'id':[id],'release_date':[release_date],'overview':[overview],'keywords':[keywords],'original_title':[original_title],'vote_average':[vote_average],'vote_count':[vote_count],'poster_path':[poster_path]}\n",
    "#         df_tmp= pd.DataFrame(data_json)\n",
    "#         df =  pd.concat([df, df_tmp], ignore_index = True)"
   ]
  },
  {
   "attachments": {},
   "cell_type": "markdown",
   "metadata": {},
   "source": [
    "## 영화 검색"
   ]
  },
  {
   "cell_type": "code",
   "execution_count": null,
   "metadata": {},
   "outputs": [
    {
     "name": "stdout",
     "output_type": "stream",
     "text": [
      "Scarface\n",
      "After getting a green card in exchange for assassinating a Cuban government official, Tony Montana stakes a claim on the drug trade in Miami. Viciously murdering anyone who stands in his way, Tony eventually becomes the biggest drug lord in the state, controlling nearly all the cocaine that comes through Miami. But increased pressure from the police, wars with Colombian drug cartels and his own drug-fueled paranoia serve to fuel the flames of his eventual downfall.\n",
      "83.822\n"
     ]
    }
   ],
   "source": [
    "from tmdbv3api import TMDb, Movie\n",
    "\n",
    "tmdb = TMDb()\n",
    "tmdb.api_key = \"234c446afa7c9156e6c9a101b724f5ae\"\n",
    "\n",
    "movie = Movie()\n",
    "\n",
    "m = movie.details(111)\n",
    "\n",
    "print(m.title)\n",
    "print(m.overview)\n",
    "print(m.popularity)\n"
   ]
  },
  {
   "cell_type": "code",
   "execution_count": null,
   "metadata": {},
   "outputs": [
    {
     "name": "stdout",
     "output_type": "stream",
     "text": [
      "John Wick: Chapter 4 2023-03-22\n"
     ]
    }
   ],
   "source": [
    "# 영화 검색\n",
    "import requests\n",
    "\n",
    "\n",
    "def SearchMovies(query, year):  # 영화 제목과 년도 정보를 받음\n",
    "\n",
    "    params = {\"api_key\": \"234c446afa7c9156e6c9a101b724f5ae\",\n",
    "          \"language\": \"ko\",\n",
    "          \"page\": \"1\",\n",
    "          \"query\": query,\n",
    "          \"include_adult\": \"true\",\n",
    "          \"year\": year}\n",
    "\n",
    "\n",
    "    url = \"https://api.themoviedb.org/3/search/movie\" # 정보를 요청할 주소\n",
    "    resp = requests.get(url, params=params)\n",
    "    data = resp.json()['results']\n",
    "\n",
    "\n",
    "    if(len(data) > 0): # 검색해서 나온 데이터가 있을 경우에만\n",
    "\n",
    "       for item in data : # 반복문 돌면서 영화 이름과 제작년도 출력\n",
    "           print(item['original_title'], item['release_date']) \n",
    "\n",
    "if __name__ == '__main__':\n",
    "    SearchMovies('존 윅',\"2023\")"
   ]
  }
 ],
 "metadata": {
  "kernelspec": {
   "display_name": "Python 3",
   "language": "python",
   "name": "python3"
  },
  "language_info": {
   "codemirror_mode": {
    "name": "ipython",
    "version": 3
   },
   "file_extension": ".py",
   "mimetype": "text/x-python",
   "name": "python",
   "nbconvert_exporter": "python",
   "pygments_lexer": "ipython3",
   "version": "3.11.1"
  },
  "orig_nbformat": 4
 },
 "nbformat": 4,
 "nbformat_minor": 2
}
