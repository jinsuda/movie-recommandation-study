{
 "cells": [
  {
   "cell_type": "code",
   "execution_count": 1,
   "metadata": {},
   "outputs": [],
   "source": [
    "import pandas as pd\n",
    "import json"
   ]
  },
  {
   "cell_type": "code",
   "execution_count": 2,
   "metadata": {},
   "outputs": [],
   "source": [
    "data = []\n",
    "with open('./tmdbKr.json','r',encoding='utf8') as file :\n",
    "    data= json.load(file)"
   ]
  },
  {
   "cell_type": "code",
   "execution_count": 3,
   "metadata": {},
   "outputs": [],
   "source": [
    "# 빈 데이터프레임\n",
    "df = pd.DataFrame(columns=['title','genres','id','overview','popularity','original_title','vote_average','vote_count','poster_path'])"
   ]
  },
  {
   "cell_type": "code",
   "execution_count": 4,
   "metadata": {},
   "outputs": [
    {
     "data": {
      "text/html": [
       "<div>\n",
       "<style scoped>\n",
       "    .dataframe tbody tr th:only-of-type {\n",
       "        vertical-align: middle;\n",
       "    }\n",
       "\n",
       "    .dataframe tbody tr th {\n",
       "        vertical-align: top;\n",
       "    }\n",
       "\n",
       "    .dataframe thead th {\n",
       "        text-align: right;\n",
       "    }\n",
       "</style>\n",
       "<table border=\"1\" class=\"dataframe\">\n",
       "  <thead>\n",
       "    <tr style=\"text-align: right;\">\n",
       "      <th></th>\n",
       "      <th>title</th>\n",
       "      <th>genres</th>\n",
       "      <th>id</th>\n",
       "      <th>overview</th>\n",
       "      <th>popularity</th>\n",
       "      <th>original_title</th>\n",
       "      <th>vote_average</th>\n",
       "      <th>vote_count</th>\n",
       "    </tr>\n",
       "  </thead>\n",
       "  <tbody>\n",
       "  </tbody>\n",
       "</table>\n",
       "</div>"
      ],
      "text/plain": [
       "Empty DataFrame\n",
       "Columns: [title, genres, id, overview, popularity, original_title, vote_average, vote_count]\n",
       "Index: []"
      ]
     },
     "execution_count": 4,
     "metadata": {},
     "output_type": "execute_result"
    }
   ],
   "source": [
    "url = \"https://image.tmdb.org/t/p/w500\""
   ]
  },
  {
   "cell_type": "code",
   "execution_count": 4,
   "metadata": {},
   "outputs": [
    {
     "ename": "TypeError",
     "evalue": "can only concatenate str (not \"NoneType\") to str",
     "output_type": "error",
     "traceback": [
      "\u001b[1;31m---------------------------------------------------------------------------\u001b[0m",
      "\u001b[1;31mTypeError\u001b[0m                                 Traceback (most recent call last)",
      "Cell \u001b[1;32mIn[4], line 34\u001b[0m\n\u001b[0;32m     32\u001b[0m vote_average \u001b[39m=\u001b[39m data[i][\u001b[39m'\u001b[39m\u001b[39mfields\u001b[39m\u001b[39m'\u001b[39m][\u001b[39m'\u001b[39m\u001b[39mvote_average\u001b[39m\u001b[39m'\u001b[39m]\n\u001b[0;32m     33\u001b[0m vote_count \u001b[39m=\u001b[39m data[i][\u001b[39m'\u001b[39m\u001b[39mfields\u001b[39m\u001b[39m'\u001b[39m][\u001b[39m'\u001b[39m\u001b[39mvote_count\u001b[39m\u001b[39m'\u001b[39m]\n\u001b[1;32m---> 34\u001b[0m poster_path \u001b[39m=\u001b[39m \u001b[39m\"\u001b[39;49m\u001b[39mhttps://image.tmdb.org/t/p/w500\u001b[39;49m\u001b[39m\"\u001b[39;49m\u001b[39m+\u001b[39;49m data[i][\u001b[39m'\u001b[39;49m\u001b[39mfields\u001b[39;49m\u001b[39m'\u001b[39;49m][\u001b[39m'\u001b[39;49m\u001b[39mposter_path\u001b[39;49m\u001b[39m'\u001b[39;49m]\n\u001b[0;32m     36\u001b[0m data_json \u001b[39m=\u001b[39m {\u001b[39m'\u001b[39m\u001b[39mtitle\u001b[39m\u001b[39m'\u001b[39m:[title],\u001b[39m'\u001b[39m\u001b[39mgenres\u001b[39m\u001b[39m'\u001b[39m:[gen_id2str],\u001b[39m'\u001b[39m\u001b[39mid\u001b[39m\u001b[39m'\u001b[39m:[\u001b[39mid\u001b[39m],\u001b[39m'\u001b[39m\u001b[39moverview\u001b[39m\u001b[39m'\u001b[39m:[overview],\u001b[39m'\u001b[39m\u001b[39mpopularity\u001b[39m\u001b[39m'\u001b[39m:[popularity],\u001b[39m'\u001b[39m\u001b[39moriginal_title\u001b[39m\u001b[39m'\u001b[39m:[original_title],\u001b[39m'\u001b[39m\u001b[39mvote_average\u001b[39m\u001b[39m'\u001b[39m:[vote_average],\u001b[39m'\u001b[39m\u001b[39mvote_count\u001b[39m\u001b[39m'\u001b[39m:[vote_count],\u001b[39m'\u001b[39m\u001b[39mposter_path\u001b[39m\u001b[39m'\u001b[39m:[poster_path]}\n\u001b[0;32m     37\u001b[0m df_tmp\u001b[39m=\u001b[39m pd\u001b[39m.\u001b[39mDataFrame(data_json)\n",
      "\u001b[1;31mTypeError\u001b[0m: can only concatenate str (not \"NoneType\") to str"
     ]
    }
   ],
   "source": [
    "# 영화데이터\n",
    "\n",
    "# 모든데이터 for문 돌면서\n",
    "# model == movies.movie 일때\n",
    "# 각 값들을 뽑아서 새로운 데이터프레임으로 만들고 \n",
    "# 기존 데이터프레임에 합쳐주는 과정\n",
    "genre_list = list()\n",
    "for i in range(len(data)) :\n",
    "    if data[i]['model'] == 'movies.genre':\n",
    "        genre_list.append(data[i])\n",
    "    elif data[i]['model']=='movies.movie':\n",
    "        title =  data[i]['fields']['title']\n",
    "        gen = data[i]['fields']['genre_ids']\n",
    "        #print(gen)\n",
    "        #break\n",
    "        gen_id2str = list()\n",
    "        for gen_ in gen:\n",
    "            for _a in genre_list:\n",
    "                if _a['pk'] == gen_:\n",
    "                    gen_id2str.append(_a['fields']['name'])\n",
    "                    break    \n",
    "        \n",
    "        #print(gen_id2str)\n",
    "        #break\n",
    "            \n",
    "        \n",
    "        #gen_str = ','.join(str(e) for e in gen) # 여러값이 있어서 해야하는데 이해안감\n",
    "        id = data[i]['pk']\n",
    "        overview = data[i]['fields']['overview']\n",
    "        popularity = data[i]['fields']['popularity']\n",
    "        original_title = data[i]['fields']['original_title']\n",
    "        vote_average = data[i]['fields']['vote_average']\n",
    "        vote_count = data[i]['fields']['vote_count']\n",
    "        poster_path = + data[i]['fields']['poster_path']\n",
    "\n",
    "        data_json = {'title':[title],'genres':[gen_id2str],'id':[id],'overview':[overview],'popularity':[popularity],'original_title':[original_title],'vote_average':[vote_average],'vote_count':[vote_count],'poster_path':[poster_path]}\n",
    "        df_tmp= pd.DataFrame(data_json)\n",
    "        df =  pd.concat([df, df_tmp], ignore_index = True)"
   ]
  },
  {
   "cell_type": "code",
   "execution_count": null,
   "metadata": {},
   "outputs": [],
   "source": [
    "df.head(15)"
   ]
  },
  {
   "cell_type": "code",
   "execution_count": 17,
   "metadata": {},
   "outputs": [],
   "source": [
    "df.to_csv('./tmdbData.csv',encoding='utf8',index=False)"
   ]
  },
  {
   "attachments": {},
   "cell_type": "markdown",
   "metadata": {},
   "source": [
    "## 영화 검색"
   ]
  },
  {
   "cell_type": "code",
   "execution_count": null,
   "metadata": {},
   "outputs": [
    {
     "name": "stdout",
     "output_type": "stream",
     "text": [
      "Scarface\n",
      "After getting a green card in exchange for assassinating a Cuban government official, Tony Montana stakes a claim on the drug trade in Miami. Viciously murdering anyone who stands in his way, Tony eventually becomes the biggest drug lord in the state, controlling nearly all the cocaine that comes through Miami. But increased pressure from the police, wars with Colombian drug cartels and his own drug-fueled paranoia serve to fuel the flames of his eventual downfall.\n",
      "83.822\n"
     ]
    }
   ],
   "source": [
    "from tmdbv3api import TMDb, Movie\n",
    "\n",
    "tmdb = TMDb()\n",
    "tmdb.api_key = \"234c446afa7c9156e6c9a101b724f5ae\"\n",
    "\n",
    "movie = Movie()\n",
    "\n",
    "m = movie.details(111)\n",
    "\n",
    "print(m.title)\n",
    "print(m.overview)\n",
    "print(m.popularity)\n"
   ]
  },
  {
   "cell_type": "code",
   "execution_count": null,
   "metadata": {},
   "outputs": [
    {
     "name": "stdout",
     "output_type": "stream",
     "text": [
      "John Wick: Chapter 4 2023-03-22\n"
     ]
    }
   ],
   "source": [
    "# 영화 검색\n",
    "import requests\n",
    "\n",
    "\n",
    "def SearchMovies(query, year):  # 영화 제목과 년도 정보를 받음\n",
    "\n",
    "    params = {\"api_key\": \"234c446afa7c9156e6c9a101b724f5ae\",\n",
    "          \"language\": \"ko\",\n",
    "          \"page\": \"1\",\n",
    "          \"query\": query,\n",
    "          \"include_adult\": \"true\",\n",
    "          \"year\": year}\n",
    "\n",
    "\n",
    "    url = \"https://api.themoviedb.org/3/search/movie\" # 정보를 요청할 주소\n",
    "    resp = requests.get(url, params=params)\n",
    "    data = resp.json()['results']\n",
    "\n",
    "\n",
    "    if(len(data) > 0): # 검색해서 나온 데이터가 있을 경우에만\n",
    "\n",
    "       for item in data : # 반복문 돌면서 영화 이름과 제작년도 출력\n",
    "           print(item['original_title'], item['release_date']) \n",
    "\n",
    "if __name__ == '__main__':\n",
    "    SearchMovies('존 윅',\"2023\")"
   ]
  }
 ],
 "metadata": {
  "kernelspec": {
   "display_name": "Python 3",
   "language": "python",
   "name": "python3"
  },
  "language_info": {
   "codemirror_mode": {
    "name": "ipython",
    "version": 3
   },
   "file_extension": ".py",
   "mimetype": "text/x-python",
   "name": "python",
   "nbconvert_exporter": "python",
   "pygments_lexer": "ipython3",
   "version": "3.11.1"
  },
  "orig_nbformat": 4
 },
 "nbformat": 4,
 "nbformat_minor": 2
}
